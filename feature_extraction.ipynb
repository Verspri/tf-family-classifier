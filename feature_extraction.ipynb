{
 "cells": [
  {
   "cell_type": "code",
   "execution_count": 287,
   "id": "acc86622",
   "metadata": {},
   "outputs": [],
   "source": [
    "import numpy as np\n",
    "import pandas as pd\n",
    "import sklearn\n",
    "import os\n",
    "import itertools"
   ]
  },
  {
   "cell_type": "code",
   "execution_count": 288,
   "id": "bc002fe5",
   "metadata": {
    "scrolled": true
   },
   "outputs": [
    {
     "data": {
      "text/html": [
       "<div>\n",
       "<style scoped>\n",
       "    .dataframe tbody tr th:only-of-type {\n",
       "        vertical-align: middle;\n",
       "    }\n",
       "\n",
       "    .dataframe tbody tr th {\n",
       "        vertical-align: top;\n",
       "    }\n",
       "\n",
       "    .dataframe thead th {\n",
       "        text-align: right;\n",
       "    }\n",
       "</style>\n",
       "<table border=\"1\" class=\"dataframe\">\n",
       "  <thead>\n",
       "    <tr style=\"text-align: right;\">\n",
       "      <th></th>\n",
       "      <th>seq</th>\n",
       "      <th>enrichment</th>\n",
       "      <th>class</th>\n",
       "    </tr>\n",
       "  </thead>\n",
       "  <tbody>\n",
       "    <tr>\n",
       "      <th>0</th>\n",
       "      <td>GGGTGCAA</td>\n",
       "      <td>0.471220</td>\n",
       "      <td>0</td>\n",
       "    </tr>\n",
       "    <tr>\n",
       "      <th>1</th>\n",
       "      <td>CGGGTGCA</td>\n",
       "      <td>0.468569</td>\n",
       "      <td>0</td>\n",
       "    </tr>\n",
       "    <tr>\n",
       "      <th>2</th>\n",
       "      <td>ATTGCACC</td>\n",
       "      <td>0.434169</td>\n",
       "      <td>0</td>\n",
       "    </tr>\n",
       "    <tr>\n",
       "      <th>3</th>\n",
       "      <td>CCGGGTGC</td>\n",
       "      <td>0.433263</td>\n",
       "      <td>0</td>\n",
       "    </tr>\n",
       "    <tr>\n",
       "      <th>4</th>\n",
       "      <td>CGCACCCG</td>\n",
       "      <td>0.406588</td>\n",
       "      <td>0</td>\n",
       "    </tr>\n",
       "  </tbody>\n",
       "</table>\n",
       "</div>"
      ],
      "text/plain": [
       "        seq  enrichment  class\n",
       "0  GGGTGCAA    0.471220      0\n",
       "1  CGGGTGCA    0.468569      0\n",
       "2  ATTGCACC    0.434169      0\n",
       "3  CCGGGTGC    0.433263      0\n",
       "4  CGCACCCG    0.406588      0"
      ]
     },
     "execution_count": 288,
     "metadata": {},
     "output_type": "execute_result"
    }
   ],
   "source": [
    "source_file = \"./data/combined_data.csv\"\n",
    "\n",
    "df = pd.read_csv(source_file)\n",
    "df.head()"
   ]
  },
  {
   "cell_type": "code",
   "execution_count": 289,
   "id": "2d9b166a",
   "metadata": {},
   "outputs": [],
   "source": [
    "# Hard labels for sequence to class"
   ]
  },
  {
   "cell_type": "code",
   "execution_count": 290,
   "id": "ee772f34",
   "metadata": {},
   "outputs": [],
   "source": [
    "class_truth = df.groupby('seq')['class'].agg(lambda x: x.mode()[0]).to_dict()"
   ]
  },
  {
   "cell_type": "markdown",
   "id": "527e77ba",
   "metadata": {},
   "source": [
    "## k-mer Nucleotide Frequency"
   ]
  },
  {
   "cell_type": "code",
   "execution_count": 291,
   "id": "a76128e5",
   "metadata": {},
   "outputs": [],
   "source": [
    "def generate_kmers(k):\n",
    "    base_pairs = list(\"ACGT\")\n",
    "    kmers = itertools.product(base_pairs, repeat=k)\n",
    "    return kmers\n",
    "\n",
    "# N = 4\n",
    "for k in range(1, 5):\n",
    "    kmers = generate_kmers(k)\n",
    "    \n",
    "    new = {}\n",
    "    for kmer in kmers:\n",
    "        kmer = \"\".join(kmer)\n",
    "        new[f\"count_{kmer}\"] = df[\"seq\"].apply(lambda x : x.count(kmer))\n",
    "    \n",
    "    df = pd.concat([df, pd.DataFrame(new)], axis=1)"
   ]
  },
  {
   "cell_type": "markdown",
   "id": "a66e4d77",
   "metadata": {},
   "source": [
    "## k-Spaced Nucleotide Pair Frequency"
   ]
  },
  {
   "cell_type": "code",
   "execution_count": 292,
   "id": "79b3df87",
   "metadata": {},
   "outputs": [],
   "source": [
    "pairs = list(generate_kmers(2))\n",
    "\n",
    "def count_kspaced(seq, pair, k):\n",
    "    count = 0\n",
    "    for i in range(len(seq) - 2 - k):\n",
    "        if seq[i] == pair[0] and seq[i+k+1] == pair[1]:\n",
    "            count += 1\n",
    "    return count\n",
    "\n",
    "#paper does k=0-4, but k=1-4 works without redudent feature\n",
    "for k in range(1, 5):\n",
    "    for p in pairs:\n",
    "        df[f\"count_{p[0] + k * '.' + p[1]}\"] = df[\"seq\"].apply(lambda x : count_kspaced(x, p, k))\n",
    "        \n",
    "#defragment\n",
    "df = df.copy()"
   ]
  },
  {
   "cell_type": "markdown",
   "id": "da407209",
   "metadata": {},
   "source": [
    "## Nucleotide Physicochemical Property"
   ]
  },
  {
   "cell_type": "code",
   "execution_count": 293,
   "id": "3eda673f",
   "metadata": {},
   "outputs": [],
   "source": [
    "properties = [\"h-bond\", \"func-group\", \"ring-struct\"]\n",
    "bps = [\"AT\", \"AC\", \"AG\"]\n",
    "\n",
    "for p, bp in zip(properties, bps):\n",
    "    for i in range(8):\n",
    "        df[f\"{p}_{i}\"] = df[\"seq\"].apply(lambda x : x[i] in bp)        "
   ]
  },
  {
   "cell_type": "code",
   "execution_count": 294,
   "id": "353a0f52",
   "metadata": {},
   "outputs": [],
   "source": [
    "#defragment frame\n",
    "df = df.copy()"
   ]
  },
  {
   "cell_type": "markdown",
   "id": "aba32799",
   "metadata": {},
   "source": [
    "## Pseudo k-Tuple Nucleotide Composition"
   ]
  },
  {
   "cell_type": "code",
   "execution_count": 295,
   "id": "3919b3ed",
   "metadata": {},
   "outputs": [],
   "source": [
    "def seq2int(seq):\n",
    "    i = 0\n",
    "    for c in list(seq):\n",
    "        i *= 4\n",
    "        i += list(\"ACGT\").index(c)\n",
    "    return i\n",
    "\n",
    "def int2seq(num):\n",
    "    seq = \"\"\n",
    "    for i in range(8):\n",
    "        c = num % 4\n",
    "        num /= 4\n",
    "        seq = list(\"ACGT\")[int(c)] + seq\n",
    "    return seq"
   ]
  },
  {
   "cell_type": "code",
   "execution_count": 296,
   "id": "71258d9a",
   "metadata": {},
   "outputs": [],
   "source": [
    "#Write genes to fafsa file\n",
    "file_path = \"./data/8mers.fasta\"\n",
    "bp = list(\"ACGT\")\n",
    "with open(file_path, 'w') as file:\n",
    "    for seq in df['seq']:\n",
    "        file.write(f\">{seq2int(seq)}\\n\")\n",
    "        file.write(f\"{seq}\\n\")"
   ]
  },
  {
   "cell_type": "markdown",
   "id": "572224b3",
   "metadata": {},
   "source": [
    "### Downloading mathfeatures\n",
    "\n",
    "$ docker pull bio21061993/mathfeature:latest\n",
    "\n",
    "$ docker run -it --name mathfeature-terminal bio21061993/mathfeature bash\n",
    "\n",
    "$ git clone https://github.com/Bonidia/MathFeature.git MathFeature-Terminal\n",
    "\n",
    "$ cd MathFeature-Terminal\n",
    "\n",
    "$ conda activate mathfeature-terminal\n",
    "\n",
    "### Creating PseKNC from fafsa file\n",
    "\n",
    "\n",
    "$ python3.7 methods/PseKNC.py -i 8mers.fasta -o output5.csv -l 1 -x files/propNames-DNA-k2.txt -xp files/propValues-DNA-k2.txt -seq 1 -t 2 -k 2 -j 5 -w 1.0 -s 2"
   ]
  },
  {
   "cell_type": "code",
   "execution_count": 297,
   "id": "6124fa51",
   "metadata": {},
   "outputs": [
    {
     "name": "stdout",
     "output_type": "stream",
     "text": [
      "14681\n"
     ]
    }
   ],
   "source": [
    "print(len(df))"
   ]
  },
  {
   "cell_type": "code",
   "execution_count": 298,
   "id": "8ae048ce",
   "metadata": {},
   "outputs": [],
   "source": [
    "#Read and map files:\n",
    "#PseKNC as created by MathFeatures with lambda = 5, weight = 1\n",
    "PseKNC = pd.read_csv(\"./data/output5.csv\")\n",
    "PseKNC = PseKNC.drop(columns='label')\n",
    "PseKNC[\"seq\"] = PseKNC[\"nameseq\"].apply(lambda x : int2seq(int(x)))\n",
    "PseKNC = PseKNC.drop(columns='nameseq')\n",
    "PseKNC = PseKNC.rename(columns = (lambda x : \"pseknc-5-\" + x[7:] if \"pseknc-\" in x else x))\n",
    "\n",
    "df = pd.merge(df, PseKNC, on='seq', how='inner')"
   ]
  },
  {
   "cell_type": "code",
   "execution_count": 299,
   "id": "4a485c44",
   "metadata": {},
   "outputs": [],
   "source": [
    "#Read and map files:\n",
    "#PseKNC as created by MathFeatures with lambda = 4, weight = 1\n",
    "PseKNC = pd.read_csv(\"./data/output4.csv\")\n",
    "PseKNC = PseKNC.drop(columns='label')\n",
    "PseKNC[\"seq\"] = PseKNC[\"nameseq\"].apply(lambda x : int2seq(int(x)))\n",
    "PseKNC = PseKNC.drop(columns='nameseq')\n",
    "PseKNC = PseKNC.rename(columns = (lambda x : \"pseknc-4-\" + x[7:] if \"pseknc-\" in x else x))\n",
    "\n",
    "df = pd.merge(df, PseKNC, on='seq', how='inner')"
   ]
  },
  {
   "cell_type": "code",
   "execution_count": 300,
   "id": "49988942",
   "metadata": {},
   "outputs": [
    {
     "name": "stdout",
     "output_type": "stream",
     "text": [
      "14681\n"
     ]
    }
   ],
   "source": [
    "print(len(df))"
   ]
  },
  {
   "cell_type": "markdown",
   "id": "36554299",
   "metadata": {},
   "source": [
    "## Electron−Ion Interaction Pseudopotentials of Trinucleotide."
   ]
  },
  {
   "cell_type": "code",
   "execution_count": null,
   "id": "d2783d43",
   "metadata": {},
   "outputs": [],
   "source": []
  },
  {
   "cell_type": "markdown",
   "id": "8f1eb953",
   "metadata": {},
   "source": [
    "## Train Test split"
   ]
  },
  {
   "cell_type": "code",
   "execution_count": 301,
   "id": "db238a36",
   "metadata": {},
   "outputs": [],
   "source": [
    "from sklearn.model_selection import train_test_split\n",
    "\n",
    "\n",
    "X = df.copy()\n",
    "y = X[\"class\"]\n",
    "X = X.drop(columns=[\"class\", \"enrichment\"])\n",
    "\n",
    "X_train, X_test, y_train, y_test = train_test_split(X, y, test_size=0.4, random_state=42)"
   ]
  },
  {
   "cell_type": "code",
   "execution_count": 302,
   "id": "fedb0fb8",
   "metadata": {},
   "outputs": [
    {
     "data": {
      "text/plain": [
       "Index(['seq', 'count_A', 'count_C', 'count_G', 'count_T', 'count_AA',\n",
       "       'count_AC', 'count_AG', 'count_AT', 'count_CA',\n",
       "       ...\n",
       "       'pseknc-4-10', 'pseknc-4-11', 'pseknc-4-12', 'pseknc-4-13',\n",
       "       'pseknc-4-14', 'pseknc-4-15', 'pseknc-4-16', 'pseknc-4-17',\n",
       "       'pseknc-4-18', 'pseknc-4-19'],\n",
       "      dtype='object', length=470)"
      ]
     },
     "execution_count": 302,
     "metadata": {},
     "output_type": "execute_result"
    }
   ],
   "source": [
    "X_train.columns"
   ]
  },
  {
   "cell_type": "markdown",
   "id": "8aa1ea52",
   "metadata": {},
   "source": [
    "## Feature selection\n",
    "Don't forget to do train test split first"
   ]
  },
  {
   "cell_type": "code",
   "execution_count": 303,
   "id": "3d391cd5",
   "metadata": {},
   "outputs": [],
   "source": [
    "#Paper uses XGBoost, ANOVA, Chi2, and LASSO\n",
    "# from sklearn.feature_selection import SelectFromModel\n",
    "from sklearn.ensemble import HistGradientBoostingClassifier\n",
    "from sklearn.inspection import permutation_importance"
   ]
  },
  {
   "cell_type": "code",
   "execution_count": 304,
   "id": "abfd5d32",
   "metadata": {},
   "outputs": [],
   "source": [
    "X_train_numeric = X_train.drop(columns=\"seq\")"
   ]
  },
  {
   "cell_type": "code",
   "execution_count": 305,
   "id": "1fcfc41b",
   "metadata": {},
   "outputs": [],
   "source": [
    "#Feature selection from gradient boosting\n",
    "clf = HistGradientBoostingClassifier().fit(X_train_numeric, y_train)"
   ]
  },
  {
   "cell_type": "code",
   "execution_count": 306,
   "id": "fa069cef",
   "metadata": {},
   "outputs": [],
   "source": [
    "#Permutation-based feature selection, direct impurity based selection is misleading when many columns\n",
    "result = permutation_importance(clf, X_train_numeric, y_train, n_repeats=20, random_state=42)"
   ]
  },
  {
   "cell_type": "code",
   "execution_count": 307,
   "id": "aec726b4",
   "metadata": {
    "scrolled": true
   },
   "outputs": [
    {
     "name": "stdout",
     "output_type": "stream",
     "text": [
      "[False False False False False False False False False False  True False\n",
      "  True False False False False False False False False False False  True\n",
      " False False False False False False False False False  True False  True\n",
      " False False False False False False False False False False False False\n",
      " False False False False  True False False  True False False False False\n",
      " False False False False False False False False False False False False\n",
      " False  True False False False False False False False  True False False\n",
      " False False False False  True False False  True False False False False\n",
      " False False False False  True False False False False False False False\n",
      " False  True False False False False False False False False False False\n",
      " False False False False False False  True False False False False False\n",
      " False False False False False  True False False  True False False False\n",
      " False  True False False False False False  True False False  True False\n",
      " False False False False False False False  True  True  True False False\n",
      " False  True False  True False False False False  True False False False\n",
      " False False False False  True False  True False  True False False False\n",
      " False False  True False False False False False False False False False\n",
      " False False False False False False False False False  True False  True\n",
      " False False False False False False False False  True False False False\n",
      " False False False False False False False False False  True False False\n",
      " False False False False False False False False False  True False False\n",
      " False  True False False False False False False  True False False False\n",
      "  True False False False False False False False False  True False False\n",
      " False False False False False False False False False False False False\n",
      " False False False False False False False False False False  True False\n",
      "  True False False False False False False False False  True False False\n",
      "  True False  True False False False False False False False False False\n",
      " False False False False False  True False False False False False  True\n",
      "  True False False False False False False False False False False False\n",
      " False False False False  True False False False False False  True False\n",
      " False False  True False False False False False False False False False\n",
      " False False False False False False False False False False False False\n",
      " False False False False False False False False False False False False\n",
      " False False False False False False False False False False False False\n",
      " False False False False False False False False False False False False\n",
      " False False False False False False False False False False False False\n",
      " False  True False  True False False  True False False  True False False\n",
      "  True  True False False False False False False False False  True False\n",
      "  True  True False False False False  True False False  True  True  True\n",
      " False]\n"
     ]
    }
   ],
   "source": [
    "support = result.importances_mean > np.mean(result.importances_mean)\n",
    "print(support)"
   ]
  },
  {
   "cell_type": "code",
   "execution_count": 312,
   "id": "72802202",
   "metadata": {},
   "outputs": [
    {
     "name": "stdout",
     "output_type": "stream",
     "text": [
      "Index(['count_CG', 'count_GA', 'count_AAT', 'count_ATC', 'count_ATT',\n",
      "       'count_GAA', 'count_GAT', 'count_TCC', 'count_TTC', 'count_AACA',\n",
      "       'count_AACT', 'count_ACAA', 'count_ACGC', 'count_AGGG', 'count_ATCC',\n",
      "       'count_ATGA', 'count_ATTC', 'count_CAAT', 'count_CACG', 'count_CATT',\n",
      "       'count_CCAA', 'count_CCAC', 'count_CCCC', 'count_CCCT', 'count_CCTA',\n",
      "       'count_CGCA', 'count_CGCG', 'count_CGGA', 'count_CGTG', 'count_GAAC',\n",
      "       'count_GAAT', 'count_GATA', 'count_GCGC', 'count_GGCC', 'count_GGGC',\n",
      "       'count_GTAA', 'count_GTCA', 'count_GTTC', 'count_TCCG', 'count_TCGA',\n",
      "       'count_TGAC', 'count_TGCA', 'count_TGCG', 'count_TTCC', 'count_TTGT',\n",
      "       'count_TTTA', 'count_T.A', 'count_A..G', 'count_C..G', 'pseknc-5-5',\n",
      "       'pseknc-5-7', 'pseknc-5-10', 'pseknc-5-13', 'pseknc-5-16',\n",
      "       'pseknc-5-17', 'pseknc-4-5', 'pseknc-4-7', 'pseknc-4-8', 'pseknc-4-13',\n",
      "       'pseknc-4-16', 'pseknc-4-17', 'pseknc-4-18'],\n",
      "      dtype='object')\n"
     ]
    }
   ],
   "source": [
    "print(X_train_numeric.columns[support])"
   ]
  },
  {
   "cell_type": "code",
   "execution_count": 308,
   "id": "5e80ebb1",
   "metadata": {},
   "outputs": [
    {
     "name": "stdout",
     "output_type": "stream",
     "text": [
      "Number features before: 469\n",
      "Number features before: 62\n"
     ]
    }
   ],
   "source": [
    "print(\"Number features before:\", len(support))\n",
    "print(\"Number features before:\", sum(support))"
   ]
  },
  {
   "cell_type": "code",
   "execution_count": 309,
   "id": "1dbe3816",
   "metadata": {},
   "outputs": [
    {
     "name": "stdout",
     "output_type": "stream",
     "text": [
      "Index(['count_CG', 'count_GA', 'count_AAT', 'count_ATC', 'count_ATT',\n",
      "       'count_GAA', 'count_GAT', 'count_TCC', 'count_TTC', 'count_AACA',\n",
      "       'count_AACT', 'count_ACAA', 'count_ACGC', 'count_AGGG', 'count_ATCC',\n",
      "       'count_ATGA', 'count_ATTC', 'count_CAAT', 'count_CACG', 'count_CATT',\n",
      "       'count_CCAA', 'count_CCAC', 'count_CCCC', 'count_CCCT', 'count_CCTA',\n",
      "       'count_CGCA', 'count_CGCG', 'count_CGGA', 'count_CGTG', 'count_GAAC',\n",
      "       'count_GAAT', 'count_GATA', 'count_GCGC', 'count_GGCC', 'count_GGGC',\n",
      "       'count_GTAA', 'count_GTCA', 'count_GTTC', 'count_TCCG', 'count_TCGA',\n",
      "       'count_TGAC', 'count_TGCA', 'count_TGCG', 'count_TTCC', 'count_TTGT',\n",
      "       'count_TTTA', 'count_T.A', 'count_A..G', 'count_C..G', 'pseknc-5-5',\n",
      "       'pseknc-5-7', 'pseknc-5-10', 'pseknc-5-13', 'pseknc-5-16',\n",
      "       'pseknc-5-17', 'pseknc-4-5', 'pseknc-4-7', 'pseknc-4-8', 'pseknc-4-13',\n",
      "       'pseknc-4-16', 'pseknc-4-17', 'pseknc-4-18'],\n",
      "      dtype='object')\n"
     ]
    }
   ],
   "source": [
    "print(X_train_numeric.columns[support])"
   ]
  },
  {
   "cell_type": "code",
   "execution_count": 310,
   "id": "d06af772",
   "metadata": {},
   "outputs": [],
   "source": [
    "X_train = X_train[[\"seq\"] + list(X_train_numeric.columns[support])]\n",
    "X_test = X_test[[\"seq\"] + list(X_train_numeric.columns[support])]"
   ]
  },
  {
   "cell_type": "markdown",
   "id": "58d2ad8e",
   "metadata": {},
   "source": [
    "### Saving to file"
   ]
  },
  {
   "cell_type": "code",
   "execution_count": 311,
   "id": "91c63bef",
   "metadata": {},
   "outputs": [],
   "source": [
    "#Write genes to fafsa file\n",
    "file_path = \"./features/\"\n",
    "X_train.to_csv(f\"{file_path}X_train.csv\")\n",
    "X_test.to_csv(f\"{file_path}X_test.csv\")\n",
    "y_train.to_csv(f\"{file_path}y_train.csv\")\n",
    "y_test.to_csv(f\"{file_path}y_test.csv\")"
   ]
  },
  {
   "cell_type": "code",
   "execution_count": null,
   "id": "de82d50e",
   "metadata": {},
   "outputs": [],
   "source": []
  }
 ],
 "metadata": {
  "kernelspec": {
   "display_name": "Python 3 (ipykernel)",
   "language": "python",
   "name": "python3"
  },
  "language_info": {
   "codemirror_mode": {
    "name": "ipython",
    "version": 3
   },
   "file_extension": ".py",
   "mimetype": "text/x-python",
   "name": "python",
   "nbconvert_exporter": "python",
   "pygments_lexer": "ipython3",
   "version": "3.11.5"
  }
 },
 "nbformat": 4,
 "nbformat_minor": 5
}
