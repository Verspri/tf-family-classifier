{
 "cells": [
  {
   "cell_type": "code",
   "execution_count": 25,
   "id": "acc86622",
   "metadata": {},
   "outputs": [],
   "source": [
    "import numpy as np\n",
    "import pandas as pd\n",
    "import sklearn\n",
    "import os\n",
    "import itertools"
   ]
  },
  {
   "cell_type": "code",
   "execution_count": 3,
   "id": "bc002fe5",
   "metadata": {
    "scrolled": true
   },
   "outputs": [
    {
     "data": {
      "text/html": [
       "<div>\n",
       "<style scoped>\n",
       "    .dataframe tbody tr th:only-of-type {\n",
       "        vertical-align: middle;\n",
       "    }\n",
       "\n",
       "    .dataframe tbody tr th {\n",
       "        vertical-align: top;\n",
       "    }\n",
       "\n",
       "    .dataframe thead th {\n",
       "        text-align: right;\n",
       "    }\n",
       "</style>\n",
       "<table border=\"1\" class=\"dataframe\">\n",
       "  <thead>\n",
       "    <tr style=\"text-align: right;\">\n",
       "      <th></th>\n",
       "      <th>seq</th>\n",
       "      <th>enrichment</th>\n",
       "      <th>class</th>\n",
       "    </tr>\n",
       "  </thead>\n",
       "  <tbody>\n",
       "    <tr>\n",
       "      <th>0</th>\n",
       "      <td>TTAATTAA</td>\n",
       "      <td>0.499720</td>\n",
       "      <td>8</td>\n",
       "    </tr>\n",
       "    <tr>\n",
       "      <th>1</th>\n",
       "      <td>CGGATCCG</td>\n",
       "      <td>0.499673</td>\n",
       "      <td>18</td>\n",
       "    </tr>\n",
       "    <tr>\n",
       "      <th>2</th>\n",
       "      <td>AGATCTAC</td>\n",
       "      <td>0.499528</td>\n",
       "      <td>7</td>\n",
       "    </tr>\n",
       "    <tr>\n",
       "      <th>3</th>\n",
       "      <td>ATGACTCA</td>\n",
       "      <td>0.499517</td>\n",
       "      <td>4</td>\n",
       "    </tr>\n",
       "    <tr>\n",
       "      <th>4</th>\n",
       "      <td>ATGAGTCA</td>\n",
       "      <td>0.499443</td>\n",
       "      <td>4</td>\n",
       "    </tr>\n",
       "  </tbody>\n",
       "</table>\n",
       "</div>"
      ],
      "text/plain": [
       "        seq  enrichment  class\n",
       "0  TTAATTAA    0.499720      8\n",
       "1  CGGATCCG    0.499673     18\n",
       "2  AGATCTAC    0.499528      7\n",
       "3  ATGACTCA    0.499517      4\n",
       "4  ATGAGTCA    0.499443      4"
      ]
     },
     "execution_count": 3,
     "metadata": {},
     "output_type": "execute_result"
    }
   ],
   "source": [
    "source_file = \"./data/combined_data.csv\"\n",
    "destination = \"./data\"\n",
    "\n",
    "df = pd.read_csv(source_file)\n",
    "df.head()"
   ]
  },
  {
   "cell_type": "code",
   "execution_count": 8,
   "id": "f3d0e217",
   "metadata": {
    "scrolled": true
   },
   "outputs": [
    {
     "data": {
      "text/plain": [
       "seq\n",
       "CGGAGATA    45\n",
       "CGGAAATA    42\n",
       "CGGAAAAA    41\n",
       "ACTCCGGA    39\n",
       "AATTTCCG    38\n",
       "            ..\n",
       "AGTTCTTA     1\n",
       "GAGATTGC     1\n",
       "AACTACAG     1\n",
       "AGAAGGTA     1\n",
       "CGGTACCA     1\n",
       "Name: count, Length: 17252, dtype: int64"
      ]
     },
     "execution_count": 8,
     "metadata": {},
     "output_type": "execute_result"
    }
   ],
   "source": [
    "df[\"seq\"].value_counts()"
   ]
  },
  {
   "cell_type": "code",
   "execution_count": null,
   "id": "2d9b166a",
   "metadata": {},
   "outputs": [],
   "source": [
    "#grouping by class so sequences from different genes are only mapped to one class"
   ]
  },
  {
   "cell_type": "code",
   "execution_count": 20,
   "id": "ee772f34",
   "metadata": {},
   "outputs": [],
   "source": [
    "class_truth = df.groupby('seq')['class'].agg(lambda x: x.mode()[0]).to_dict()"
   ]
  },
  {
   "cell_type": "markdown",
   "id": "527e77ba",
   "metadata": {},
   "source": [
    "## k-mer Nucleotide Frequency"
   ]
  },
  {
   "cell_type": "code",
   "execution_count": 36,
   "id": "a76128e5",
   "metadata": {},
   "outputs": [],
   "source": [
    "def generate_kmers(k):\n",
    "    base_pairs = list(\"ACGT\")\n",
    "    kmers = itertools.combinations_with_replacement(base_pairs, k)\n",
    "    return kmers\n",
    "\n",
    "# N = 3 max atm, paper does N=4\n",
    "for k in range(1, 4):\n",
    "    kmers = generate_kmers(k)\n",
    "    \n",
    "    for kmer in kmers:\n",
    "        kmer = \"\".join(kmer)\n",
    "        df[f\"count_{kmer}\"] = df[\"seq\"].apply(lambda x : x.count(kmer))"
   ]
  },
  {
   "cell_type": "markdown",
   "id": "a66e4d77",
   "metadata": {},
   "source": [
    "## k-Spaced Nucleotide Pair Frequency"
   ]
  },
  {
   "cell_type": "code",
   "execution_count": 49,
   "id": "79b3df87",
   "metadata": {},
   "outputs": [],
   "source": [
    "pairs = list(generate_kmers(2))\n",
    "\n",
    "def count_kspaced(seq, pair, k):\n",
    "    count = 0\n",
    "    for i in range(len(seq) - 2 - k):\n",
    "        if seq[i] == pair[0] and seq[i+k+1] == pair[1]:\n",
    "            count += 1\n",
    "    return count\n",
    "\n",
    "#paper does k=0-4, but k=1-4 works without redudent feature\n",
    "for k in range(1, 5):\n",
    "    for p in pairs:\n",
    "        df[f\"count_{p[0] + k * '.' + p[1]}\"] = df[\"seq\"].apply(lambda x : count_kspaced(x, p, k))"
   ]
  },
  {
   "cell_type": "markdown",
   "id": "da407209",
   "metadata": {},
   "source": [
    "## Nucleotide Physicochemical Property"
   ]
  },
  {
   "cell_type": "code",
   "execution_count": null,
   "id": "3eda673f",
   "metadata": {},
   "outputs": [],
   "source": []
  },
  {
   "cell_type": "markdown",
   "id": "aba32799",
   "metadata": {},
   "source": [
    "## Pseudo k-Tuple Nucleotide Composition"
   ]
  },
  {
   "cell_type": "code",
   "execution_count": null,
   "id": "71258d9a",
   "metadata": {},
   "outputs": [],
   "source": [
    "def pseKNC(seq):\n",
    "    pass"
   ]
  },
  {
   "cell_type": "markdown",
   "id": "36554299",
   "metadata": {},
   "source": [
    "## Electron−Ion Interaction Pseudopotentials of Trinucleotide."
   ]
  },
  {
   "cell_type": "code",
   "execution_count": null,
   "id": "d2783d43",
   "metadata": {},
   "outputs": [],
   "source": []
  },
  {
   "cell_type": "markdown",
   "id": "58d2ad8e",
   "metadata": {},
   "source": [
    "### Saving to file"
   ]
  },
  {
   "cell_type": "code",
   "execution_count": null,
   "id": "91c63bef",
   "metadata": {},
   "outputs": [],
   "source": []
  }
 ],
 "metadata": {
  "kernelspec": {
   "display_name": "Python 3 (ipykernel)",
   "language": "python",
   "name": "python3"
  },
  "language_info": {
   "codemirror_mode": {
    "name": "ipython",
    "version": 3
   },
   "file_extension": ".py",
   "mimetype": "text/x-python",
   "name": "python",
   "nbconvert_exporter": "python",
   "pygments_lexer": "ipython3",
   "version": "3.11.5"
  }
 },
 "nbformat": 4,
 "nbformat_minor": 5
}
