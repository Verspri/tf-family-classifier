{
 "cells": [
  {
   "cell_type": "code",
   "execution_count": null,
   "id": "86a5c18a",
   "metadata": {},
   "outputs": [],
   "source": [
    "import numpy as np\n",
    "import pandas as pd\n",
    "import sklearn\n",
    "import os"
   ]
  },
  {
   "cell_type": "code",
   "execution_count": null,
   "id": "d01d1657",
   "metadata": {},
   "outputs": [],
   "source": [
    "source_file = \"./data/combined_data.csv\"\n",
    "destination_file = \"./data\"\n",
    "\n"
   ]
  },
  {
   "cell_type": "markdown",
   "id": "4c76c320",
   "metadata": {},
   "source": [
    "## k-mer Nucleotide Frequency"
   ]
  },
  {
   "cell_type": "code",
   "execution_count": null,
   "id": "c82b50cd",
   "metadata": {},
   "outputs": [],
   "source": []
  },
  {
   "cell_type": "markdown",
   "id": "6c2c97ff",
   "metadata": {},
   "source": [
    "## k-Spaced Nucleotide Pair Frequency"
   ]
  },
  {
   "cell_type": "code",
   "execution_count": null,
   "id": "863b8b58",
   "metadata": {},
   "outputs": [],
   "source": []
  },
  {
   "cell_type": "markdown",
   "id": "ec23f4a1",
   "metadata": {},
   "source": [
    "## "
   ]
  },
  {
   "cell_type": "code",
   "execution_count": null,
   "id": "8d56f2f6",
   "metadata": {},
   "outputs": [],
   "source": []
  },
  {
   "cell_type": "code",
   "execution_count": null,
   "id": "26a6c12d",
   "metadata": {},
   "outputs": [],
   "source": []
  },
  {
   "cell_type": "code",
   "execution_count": null,
   "id": "f3a78b6a",
   "metadata": {},
   "outputs": [],
   "source": []
  }
 ],
 "metadata": {
  "kernelspec": {
   "display_name": "Python 3 (ipykernel)",
   "language": "python",
   "name": "python3"
  },
  "language_info": {
   "codemirror_mode": {
    "name": "ipython",
    "version": 3
   },
   "file_extension": ".py",
   "mimetype": "text/x-python",
   "name": "python",
   "nbconvert_exporter": "python",
   "pygments_lexer": "ipython3",
   "version": "3.11.5"
  }
 },
 "nbformat": 4,
 "nbformat_minor": 5
}
