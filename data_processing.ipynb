{
 "cells": [
  {
   "cell_type": "code",
   "execution_count": 68,
   "id": "0a3efdae-d9c9-44e0-b901-291430a9903b",
   "metadata": {},
   "outputs": [],
   "source": [
    "import numpy as np\n",
    "import pandas as pd\n",
    "import sklearn\n",
    "import os\n",
    "import shutil"
   ]
  },
  {
   "cell_type": "code",
   "execution_count": 69,
   "id": "09df5f07",
   "metadata": {},
   "outputs": [],
   "source": [
    "folder = \"./data/GR09_PBM_full\"\n",
    "\n",
    "sub_folders = [name for name in os.listdir(folder) if os.path.isdir(os.path.join(folder, name))]\n",
    "\n",
    "#print(sub_folders)"
   ]
  },
  {
   "cell_type": "code",
   "execution_count": 70,
   "id": "06ab09ec",
   "metadata": {},
   "outputs": [
    {
     "data": {
      "text/html": [
       "<div>\n",
       "<style scoped>\n",
       "    .dataframe tbody tr th:only-of-type {\n",
       "        vertical-align: middle;\n",
       "    }\n",
       "\n",
       "    .dataframe tbody tr th {\n",
       "        vertical-align: top;\n",
       "    }\n",
       "\n",
       "    .dataframe thead th {\n",
       "        text-align: right;\n",
       "    }\n",
       "</style>\n",
       "<table border=\"1\" class=\"dataframe\">\n",
       "  <thead>\n",
       "    <tr style=\"text-align: right;\">\n",
       "      <th></th>\n",
       "      <th>ID</th>\n",
       "      <th>Name</th>\n",
       "      <th>Species</th>\n",
       "      <th>GeneID</th>\n",
       "      <th>Family</th>\n",
       "      <th>Evidence</th>\n",
       "    </tr>\n",
       "  </thead>\n",
       "  <tbody>\n",
       "    <tr>\n",
       "      <th>0</th>\n",
       "      <td>T000084_2.00</td>\n",
       "      <td>ABF1</td>\n",
       "      <td>Saccharomyces_cerevisiae</td>\n",
       "      <td>YKL112W</td>\n",
       "      <td>ABF1</td>\n",
       "      <td>D</td>\n",
       "    </tr>\n",
       "    <tr>\n",
       "      <th>1</th>\n",
       "      <td>T000262_2.00</td>\n",
       "      <td>AFT1</td>\n",
       "      <td>Saccharomyces_cerevisiae</td>\n",
       "      <td>YGL071W</td>\n",
       "      <td>AFT</td>\n",
       "      <td>D</td>\n",
       "    </tr>\n",
       "    <tr>\n",
       "      <th>2</th>\n",
       "      <td>T000263_2.00</td>\n",
       "      <td>AFT2</td>\n",
       "      <td>Saccharomyces_cerevisiae</td>\n",
       "      <td>YPL202C</td>\n",
       "      <td>AFT</td>\n",
       "      <td>D</td>\n",
       "    </tr>\n",
       "    <tr>\n",
       "      <th>3</th>\n",
       "      <td>T012462_2.00</td>\n",
       "      <td>MBP1</td>\n",
       "      <td>Saccharomyces_cerevisiae</td>\n",
       "      <td>YDL056W</td>\n",
       "      <td>APSES</td>\n",
       "      <td>D</td>\n",
       "    </tr>\n",
       "    <tr>\n",
       "      <th>4</th>\n",
       "      <td>T012465_2.00</td>\n",
       "      <td>PHD1</td>\n",
       "      <td>Saccharomyces_cerevisiae</td>\n",
       "      <td>YKL043W</td>\n",
       "      <td>APSES</td>\n",
       "      <td>D</td>\n",
       "    </tr>\n",
       "  </tbody>\n",
       "</table>\n",
       "</div>"
      ],
      "text/plain": [
       "             ID  Name                   Species   GeneID Family Evidence\n",
       "0  T000084_2.00  ABF1  Saccharomyces_cerevisiae  YKL112W   ABF1        D\n",
       "1  T000262_2.00  AFT1  Saccharomyces_cerevisiae  YGL071W    AFT        D\n",
       "2  T000263_2.00  AFT2  Saccharomyces_cerevisiae  YPL202C    AFT        D\n",
       "3  T012462_2.00  MBP1  Saccharomyces_cerevisiae  YDL056W  APSES        D\n",
       "4  T012465_2.00  PHD1  Saccharomyces_cerevisiae  YKL043W  APSES        D"
      ]
     },
     "execution_count": 70,
     "metadata": {},
     "output_type": "execute_result"
    }
   ],
   "source": [
    "#labels according to CIS-BP Database\n",
    "#http://cisbp.ccbr.utoronto.ca/help.html\n",
    "fam_labels = pd.read_csv(\"./data/dataCSV3762.csv\")\n",
    "fam_labels.head()"
   ]
  },
  {
   "cell_type": "code",
   "execution_count": 71,
   "id": "b327b1b0",
   "metadata": {},
   "outputs": [],
   "source": [
    "genes = []\n",
    "family = []\n",
    "\n",
    "excluded = []\n",
    "for name in sub_folders:\n",
    "    name = name.upper()\n",
    "    if sum(fam_labels[\"Name\"] == name) != 0:\n",
    "        genes.append(name)\n",
    "        family.append(fam_labels[fam_labels[\"Name\"] == name].iloc[0][\"Family\"])\n",
    "    if sum(fam_labels[\"GeneID\"] == name) != 0:\n",
    "        genes.append(name)\n",
    "        family.append(fam_labels[fam_labels[\"GeneID\"] == name].iloc[0][\"Family\"])"
   ]
  },
  {
   "cell_type": "code",
   "execution_count": 72,
   "id": "223583b3",
   "metadata": {},
   "outputs": [
    {
     "name": "stdout",
     "output_type": "stream",
     "text": [
      "['AFT', 'Zinc_cluster', 'Zinc_cluster', 'Myb-SANT', 'bHLH', 'Zinc_cluster', 'Zinc_cluster', 'Homeodomain', 'Zinc_cluster', 'Forkhead', 'Forkhead', 'Forkhead', 'Zinc_cluster', 'GATA', 'GATA', 'GATA', 'bZIP', 'GATA', 'Zinc_cluster', 'GATA', 'Zinc_cluster', 'Zinc_cluster', 'Zinc_cluster', 'Homeodomain', 'APSES', 'MADS_box', 'C2H2_ZF', 'HSF', 'C2H2_ZF', 'C2H2_ZF', 'C2H2_ZF', 'Ndt80-PhoG', 'Sox', 'Sox', 'C2H2_ZF', 'Zinc_cluster', 'Zinc_cluster', 'APSES', 'Homeodomain', 'bHLH', 'Zinc_cluster', 'Rap1', 'Zinc_cluster', 'Zinc_cluster', 'Zinc_cluster', 'Zinc_cluster', 'C2H2_ZF', 'C2H2_ZF', 'Zinc_cluster', 'Zinc_cluster', 'bHLH', 'HSF', 'C2H2_ZF', 'Zinc_cluster', 'HSF', 'MADS_box', 'TBP', 'GATA', 'Unknown', 'C2H2_ZF', 'C2H2_ZF', 'AT_hook', 'Zinc_cluster', 'Myb-SANT', 'Zinc_cluster', 'Zinc_cluster', 'TEA', 'bHLH', 'Zinc_cluster', 'C2H2_ZF', 'APSES', 'bZIP', 'bZIP', 'Zinc_cluster', 'Zinc_cluster', 'C2H2_ZF', 'C2H2_ZF', 'C2H2_ZF', 'Zinc_cluster', 'Zinc_cluster', 'Zinc_cluster', 'Zinc_cluster', 'C2H2_ZF', 'Zinc_cluster', 'Zinc_cluster', 'Homeodomain', 'C2H2_ZF', 'C2H2_ZF', 'C2H2_ZF', 'Zinc_cluster', 'Zinc_cluster', 'Zinc_cluster', 'Zinc_cluster']\n"
     ]
    }
   ],
   "source": [
    "def to_file_name(s):\n",
    "    s = s.replace(\" \", \"_\")\n",
    "    s = s.replace(\"/\", \"-\")\n",
    "    return s\n",
    "\n",
    "family = list(map(to_file_name, family))\n",
    "print(family)"
   ]
  },
  {
   "cell_type": "code",
   "execution_count": 73,
   "id": "b4101208",
   "metadata": {},
   "outputs": [
    {
     "name": "stdout",
     "output_type": "stream",
     "text": [
      "['AFT1', 'ARO80', 'ASG1', 'BAS1', 'CBF1', 'CEP3', 'CHA4', 'CUP9', 'ECM22', 'FHL1', 'FKH1', 'FKH2', 'GAL4', 'GAT1', 'GAT3', 'GAT4', 'GCN4', 'GLN3', 'GSM1', 'GZF3', 'HAL9', 'LEU3', 'LYS14', 'MATALPHA2', 'MBP1', 'MCM1', 'MET32', 'MGA1', 'MIG1', 'MIG2', 'MIG3', 'NDT80', 'NHP6A', 'NHP6B', 'NRG1', 'OAF1', 'PDR1', 'PHD1', 'PHO2', 'PHO4', 'PUT3', 'RAP1', 'RDR1', 'RDS1', 'RDS2', 'RGT1', 'RPH1', 'RPN4', 'RSC3', 'RSC30', 'RTG3', 'SFL1', 'SFP1', 'SIP4', 'SKN7', 'SMP1', 'SPT15', 'SRD1', 'STB3', 'STP2', 'STP4', 'SUM1', 'SUT2', 'TBF1', 'TBS1', 'TEA1', 'TEC1', 'TYE7', 'UME6', 'USV1', 'XBP1', 'YAP1', 'YAP6', 'YBR239C', 'YDR520C', 'YER130C', 'YGR067C', 'YGR067C', 'YKL222C', 'YKL222C', 'YLL054C', 'YLL054C', 'YML081W', 'YNR063W', 'YNR063W', 'YOX1', 'YPR013C', 'YPR015C', 'YPR015C', 'YPR196W', 'YPR196W', 'YRM1', 'YRR1']\n"
     ]
    }
   ],
   "source": [
    "print(genes)"
   ]
  },
  {
   "cell_type": "code",
   "execution_count": 74,
   "id": "3d54d9e7",
   "metadata": {},
   "outputs": [
    {
     "name": "stdout",
     "output_type": "stream",
     "text": [
      "Aft1 AFT Aft1_8mers_11111111.txt\n",
      "Aro80 Zinc_cluster Aro80_8mers_11111111.txt\n",
      "Asg1 Zinc_cluster Asg1_8mers_11111111.txt\n",
      "Bas1 Myb-SANT Bas1_8mers_11111111.txt\n",
      "Cbf1 bHLH Cbf1-11_8mers_11111111.txt\n",
      "Cbf1 bHLH Cbf1-9_8mers_11111111.txt\n",
      "Cep3 Zinc_cluster Cep3_8mers_11111111.txt\n",
      "Cha4 Zinc_cluster Cha4_8mers_11111111.txt\n",
      "Cup9 Homeodomain Cup9_8mers_11111111.txt\n",
      "Ecm22 Zinc_cluster Ecm22_8mers_11111111.txt\n",
      "Fhl1 Forkhead Fhl1-11_8mers_11111111.txt\n",
      "Fhl1 Forkhead Fhl1-9_8mers_11111111.txt\n",
      "Fkh1 Forkhead Fkh1-11_8mers_11111111.txt\n",
      "Fkh1 Forkhead Fkh1-9_8mers_11111111.txt\n",
      "Fkh2 Forkhead Fkh2-11_8mers_11111111.txt\n",
      "Fkh2 Forkhead Fkh2-9_8mers_11111111.txt\n",
      "Gal4 Zinc_cluster Gal4-11_8mers_11111111.txt\n",
      "Gal4 Zinc_cluster Gal4-9_8mers_11111111.txt\n",
      "Gat1 GATA Gat1-11_8mers_11111111.txt\n",
      "Gat1 GATA Gat1-9_8mers_11111111.txt\n",
      "Gat3 GATA Gat3_8mers_11111111.txt\n",
      "Gat4 GATA Gat4-11_8mers_11111111.txt\n",
      "Gat4 GATA Gat4-9_8mers_11111111.txt\n",
      "Gcn4 bZIP Gcn4-11_8mers_11111111.txt\n",
      "Gcn4 bZIP Gcn4-9_8mers_11111111.txt\n",
      "Gln3 GATA Gln3_8mers_11111111.txt\n",
      "Gsm1 Zinc_cluster Gsm1-11_8mers_11111111.txt\n",
      "Gsm1 Zinc_cluster Gsm1-9_8mers_11111111.txt\n",
      "Gzf3 GATA Gzf3-11_8mers_11111111.txt\n",
      "Gzf3 GATA Gzf3-9_8mers_11111111.txt\n",
      "Hal9 Zinc_cluster Hal9_8mers_11111111.txt\n",
      "Leu3 Zinc_cluster Leu3_8mers_11111111.txt\n",
      "Lys14 Zinc_cluster Lys14_8mers_11111111.txt\n",
      "Matalpha2 Homeodomain Matalpha2-11_8mers_11111111.txt\n",
      "Matalpha2 Homeodomain Matalpha2-9_8mers_11111111.txt\n",
      "Mbp1 APSES Mbp1_8mers_11111111.txt\n",
      "Mcm1 MADS_box Mcm1-11_8mers_11111111.txt\n",
      "Mcm1 MADS_box Mcm1-9_8mers_11111111.txt\n",
      "Met32 C2H2_ZF Met32-11_8mers_11111111.txt\n",
      "Met32 C2H2_ZF Met32-9_8mers_11111111.txt\n",
      "Mga1 HSF Mga1_8mers_11111111.txt\n",
      "Mig1 C2H2_ZF Mig1_8mers_11111111.txt\n",
      "Mig2 C2H2_ZF Mig2_8mers_11111111.txt\n",
      "Mig3 C2H2_ZF Mig3_8mers_11111111.txt\n",
      "Ndt80 Ndt80-PhoG Ndt80-11_8mers_11111111.txt\n",
      "Ndt80 Ndt80-PhoG Ndt80-9_8mers_11111111.txt\n",
      "Nhp6a Sox Nhp6a-11_8mers_11111111.txt\n",
      "Nhp6a Sox Nhp6a-9_8mers_11111111.txt\n",
      "Nhp6b Sox Nhp6b-11_8mers_11111111.txt\n",
      "Nhp6b Sox Nhp6b-9_8mers_11111111.txt\n",
      "Nrg1 C2H2_ZF Nrg1-11_8mers_11111111.txt\n",
      "Nrg1 C2H2_ZF Nrg1-9_8mers_11111111.txt\n",
      "Oaf1 Zinc_cluster Oaf1-11_8mers_11111111.txt\n",
      "Oaf1 Zinc_cluster Oaf1-9_8mers_11111111.txt\n",
      "Pdr1 Zinc_cluster Pdr1_8mers_11111111.txt\n",
      "Phd1 APSES Phd1_8mers_11111111.txt\n",
      "Pho2 Homeodomain Pho2_8mers_11111111.txt\n",
      "Pho4 bHLH Pho4-11_8mers_11111111.txt\n",
      "Pho4 bHLH Pho4-9_8mers_11111111.txt\n",
      "Put3 Zinc_cluster Put3-11_8mers_11111111.txt\n",
      "Put3 Zinc_cluster Put3-9_8mers_11111111.txt\n",
      "Rap1 Rap1 Rap1-11_8mers_11111111.txt\n",
      "Rap1 Rap1 Rap1-9_8mers_11111111.txt\n",
      "Rdr1 Zinc_cluster Rdr1-11_8mers_11111111.txt\n",
      "Rdr1 Zinc_cluster Rdr1-9_8mers_11111111.txt\n",
      "Rds1 Zinc_cluster Rds1_8mers_11111111.txt\n",
      "Rds2 Zinc_cluster Rds2-11_8mers_11111111.txt\n",
      "Rds2 Zinc_cluster Rds2-9_8mers_11111111.txt\n",
      "Rgt1 Zinc_cluster Rgt1-11_8mers_11111111.txt\n",
      "Rgt1 Zinc_cluster Rgt1-9_8mers_11111111.txt\n",
      "Rph1 C2H2_ZF Rph1-11_8mers_11111111.txt\n",
      "Rph1 C2H2_ZF Rph1-9_8mers_11111111.txt\n",
      "Rpn4 C2H2_ZF Rpn4-11_8mers_11111111.txt\n",
      "Rpn4 C2H2_ZF Rpn4-9_8mers_11111111.txt\n",
      "Rsc3 Zinc_cluster Rsc3_8mers_11111111.txt\n",
      "Rsc30 Zinc_cluster Rsc30_8mers_11111111.txt\n",
      "Rtg3 bHLH Rtg3_8mers_11111111.txt\n",
      "Sfl1 HSF Sfl1_8mers_11111111.txt\n",
      "Sfp1 C2H2_ZF Sfp1-11_8mers_11111111.txt\n",
      "Sfp1 C2H2_ZF Sfp1-9_8mers_11111111.txt\n",
      "Sip4 Zinc_cluster Sip4-11_8mers_11111111.txt\n",
      "Sip4 Zinc_cluster Sip4-9_8mers_11111111.txt\n",
      "Skn7 HSF Skn7_8mers_11111111.txt\n",
      "Smp1 MADS_box Smp1_8mers_11111111.txt\n",
      "Spt15 TBP Spt15_8mers_11111111.txt\n",
      "Srd1 GATA Srd1-11_8mers_11111111.txt\n",
      "Srd1 GATA Srd1-9_8mers_11111111.txt\n",
      "Stb3 Unknown Stb3_8mers_11111111.txt\n",
      "Stp2 C2H2_ZF Stp2-11_8mers_11111111.txt\n",
      "Stp2 C2H2_ZF Stp2-9_8mers_11111111.txt\n",
      "Stp4 C2H2_ZF Stp4_8mers_11111111.txt\n",
      "Sum1 AT_hook Sum1-11_8mers_11111111.txt\n",
      "Sum1 AT_hook Sum1-9_8mers_11111111.txt\n",
      "Sut2 Zinc_cluster Sut2-11_8mers_11111111.txt\n",
      "Sut2 Zinc_cluster Sut2-9_8mers_11111111.txt\n",
      "Tbf1 Myb-SANT Tbf1_8mers_11111111.txt\n",
      "Tbs1 Zinc_cluster Tbs1-11_8mers_11111111.txt\n",
      "Tbs1 Zinc_cluster Tbs1-9_8mers_11111111.txt\n",
      "Tea1 Zinc_cluster Tea1_8mers_11111111.txt\n",
      "Tec1 TEA Tec1_8mers_11111111.txt\n",
      "Tye7 bHLH Tye7-11_8mers_11111111.txt\n",
      "Tye7 bHLH Tye7-9_8mers_11111111.txt\n",
      "Ume6 Zinc_cluster Ume6-11_8mers_11111111.txt\n",
      "Ume6 Zinc_cluster Ume6-9_8mers_11111111.txt\n",
      "Usv1 C2H2_ZF Usv1_8mers_11111111.txt\n",
      "Xbp1 APSES Xbp1_8mers_11111111.txt\n",
      "Yap1 bZIP Yap1_8mers_11111111.txt\n",
      "Yap6 bZIP Yap6_8mers_11111111.txt\n",
      "Ybr239c Zinc_cluster Ybr239c_8mers_11111111.txt\n",
      "Ydr520c Zinc_cluster Ydr520c_8mers_11111111.txt\n",
      "Yer130c C2H2_ZF Yer130c-11_8mers_11111111.txt\n",
      "Yer130c C2H2_ZF Yer130c-9_8mers_11111111.txt\n",
      "Ygr067c C2H2_ZF Ygr067c_8mers_11111111.txt\n",
      "Ygr067c C2H2_ZF Ygr067c_8mers_11111111.txt\n",
      "Ykl222c Zinc_cluster Ykl222c-11_8mers_11111111.txt\n",
      "Ykl222c Zinc_cluster Ykl222c-9_8mers_11111111.txt\n",
      "Ykl222c Zinc_cluster Ykl222c-11_8mers_11111111.txt\n",
      "Ykl222c Zinc_cluster Ykl222c-9_8mers_11111111.txt\n",
      "Yll054c Zinc_cluster Yll054c-11_8mers_11111111.txt\n",
      "Yll054c Zinc_cluster Yll054c-9_8mers_11111111.txt\n",
      "Yll054c Zinc_cluster Yll054c-11_8mers_11111111.txt\n",
      "Yll054c Zinc_cluster Yll054c-9_8mers_11111111.txt\n",
      "Yml081w C2H2_ZF Yml081w_8mers_11111111.txt\n",
      "Ynr063w Zinc_cluster Ynr063w_8mers_11111111.txt\n",
      "Ynr063w Zinc_cluster Ynr063w_8mers_11111111.txt\n",
      "Yox1 Homeodomain Yox1_8mers_11111111.txt\n",
      "Ypr013c C2H2_ZF Ypr013c-11_8mers_11111111.txt\n",
      "Ypr013c C2H2_ZF Ypr013c-9_8mers_11111111.txt\n",
      "Ypr015c C2H2_ZF Ypr015c_8mers_11111111.txt\n",
      "Ypr015c C2H2_ZF Ypr015c_8mers_11111111.txt\n",
      "Ypr196w Zinc_cluster Ypr196w-11_8mers_11111111.txt\n",
      "Ypr196w Zinc_cluster Ypr196w-9_8mers_11111111.txt\n",
      "Ypr196w Zinc_cluster Ypr196w-11_8mers_11111111.txt\n",
      "Ypr196w Zinc_cluster Ypr196w-9_8mers_11111111.txt\n",
      "Yrm1 Zinc_cluster Yrm1_8mers_11111111.txt\n",
      "Yrr1 Zinc_cluster Yrr1-11_8mers_11111111.txt\n",
      "Yrr1 Zinc_cluster Yrr1-9_8mers_11111111.txt\n"
     ]
    }
   ],
   "source": [
    "for name, fam in zip(genes, family):\n",
    "    fname = name\n",
    "    for n in sub_folders:\n",
    "        if n.upper() == name:\n",
    "            fname = n\n",
    "            \n",
    "    destination = f\"./data/PBM_partitioned/{fam}\"\n",
    "    \n",
    "    if not os.path.exists(destination):\n",
    "        os.mkdir(destination)\n",
    "            \n",
    "    source = f\"./data/GR09_PBM_full/{fname}\"\n",
    "    \n",
    "    files = os.listdir(source)\n",
    "    \n",
    "    for file in files:\n",
    "        if \"8mers_11111111.txt\" in file and \"primary\" not in file:\n",
    "            print(fname, fam, file)\n",
    "            shutil.copyfile(os.path.join(source, file), os.path.join(destination, file))"
   ]
  },
  {
   "cell_type": "markdown",
   "id": "ce40d348",
   "metadata": {},
   "source": [
    "### Removing odd categories"
   ]
  },
  {
   "cell_type": "code",
   "execution_count": 75,
   "id": "7f20322c",
   "metadata": {},
   "outputs": [],
   "source": [
    "folder = \"./data/PBM_partitioned\"\n",
    "#unknown\n",
    "shutil.rmtree(f\"{folder}/Unknown\",ignore_errors=True)"
   ]
  },
  {
   "cell_type": "markdown",
   "id": "2f19a246",
   "metadata": {},
   "source": [
    "# Combine individual enrichment files into one with class labes"
   ]
  },
  {
   "cell_type": "code",
   "execution_count": 88,
   "id": "aef67b06",
   "metadata": {},
   "outputs": [],
   "source": [
    "min_threshold = 0.2\n",
    "\n",
    "folder = \"./data/PBM_partitioned\"\n",
    "\n",
    "sub_folders = [name for name in os.listdir(folder) if os.path.isdir(os.path.join(folder, name))]\n",
    "\n",
    "dfs = []\n",
    "\n",
    "for family in sub_folders:\n",
    "    files = os.listdir(os.path.join(folder, family))\n",
    "    for f in files:\n",
    "        path = os.path.join(folder, family, f)\n",
    "        partial_df = pd.read_csv(path, names=[\"seq\", \"rev_seq\", \"median_signal_intensity\", \"enrichment\"], delim_whitespace=True)\n",
    "        partial_df = partial_df[partial_df[\"enrichment\"] >= min_threshold]\n",
    "        partial_df = partial_df.assign(family=family)\n",
    "        dfs.append(partial_df)\n",
    "        pass\n",
    "\n",
    "    \n",
    "combined_df = pd.concat(dfs, axis=0, ignore_index=True)\n",
    "label, classes = pd.factorize(combined_df[\"family\"])\n",
    "combined_df[\"class\"] = label\n",
    "\n",
    "combined_df = combined_df[[\"seq\", \"enrichment\", \"class\"]]\n",
    "\n",
    "combined_df = combined_df.sort_values(by=[\"enrichment\"], ascending=False)"
   ]
  },
  {
   "cell_type": "code",
   "execution_count": 89,
   "id": "fab50c77",
   "metadata": {},
   "outputs": [],
   "source": [
    "#taking only the 5000 highest enrichment sequences for each class\n",
    "combined_df = combined_df.groupby('class').apply(lambda x: x.nlargest(5000, 'enrichment')).reset_index(drop=True)"
   ]
  },
  {
   "cell_type": "code",
   "execution_count": 90,
   "id": "ccb3a2c6",
   "metadata": {},
   "outputs": [],
   "source": [
    "#eliminating duplicate sequences\n",
    "\n",
    "# Find the index of the row with the highest enrichment in each class\n",
    "idx = combined_df.groupby(['seq'])['enrichment'].idxmax()\n",
    "\n",
    "# Select the rows with the highest enrichment in each class\n",
    "combined_df = combined_df.loc[idx]"
   ]
  },
  {
   "cell_type": "code",
   "execution_count": 91,
   "id": "18440d88",
   "metadata": {
    "scrolled": false
   },
   "outputs": [
    {
     "data": {
      "text/plain": [
       "seq\n",
       "AAAAAAAA    1\n",
       "CGTAGATC    1\n",
       "CGTAGTCA    1\n",
       "CGTAGGTC    1\n",
       "CGTAGGTA    1\n",
       "           ..\n",
       "ATACACAA    1\n",
       "ATACAATG    1\n",
       "ATACAATC    1\n",
       "ATACAATA    1\n",
       "TTTTAAAA    1\n",
       "Name: count, Length: 22110, dtype: int64"
      ]
     },
     "execution_count": 91,
     "metadata": {},
     "output_type": "execute_result"
    }
   ],
   "source": [
    "combined_df[\"seq\"].value_counts()"
   ]
  },
  {
   "cell_type": "code",
   "execution_count": 92,
   "id": "357b767c",
   "metadata": {},
   "outputs": [],
   "source": [
    "#taking only the 1000 highest enrichment sequences \n",
    "combined_df = combined_df.groupby('class').apply(lambda x: x.nlargest(1000, 'enrichment')).reset_index(drop=True)"
   ]
  },
  {
   "cell_type": "code",
   "execution_count": 93,
   "id": "97cc283d",
   "metadata": {},
   "outputs": [
    {
     "data": {
      "text/plain": [
       "class\n",
       "9     1000\n",
       "6     1000\n",
       "11    1000\n",
       "1     1000\n",
       "8     1000\n",
       "7     1000\n",
       "17    1000\n",
       "5     1000\n",
       "4     1000\n",
       "3     1000\n",
       "16     981\n",
       "2      864\n",
       "10     834\n",
       "14     789\n",
       "13     478\n",
       "12     407\n",
       "0      168\n",
       "15     160\n",
       "Name: count, dtype: int64"
      ]
     },
     "execution_count": 93,
     "metadata": {},
     "output_type": "execute_result"
    }
   ],
   "source": [
    "combined_df['class'].value_counts()"
   ]
  },
  {
   "cell_type": "code",
   "execution_count": 95,
   "id": "3955adb7",
   "metadata": {},
   "outputs": [
    {
     "name": "stdout",
     "output_type": "stream",
     "text": [
      "Index(['AFT', 'APSES', 'AT_hook', 'bHLH', 'bZIP', 'C2H2_ZF', 'Forkhead',\n",
      "       'GATA', 'Homeodomain', 'HSF', 'MADS_box', 'Myb-SANT', 'Ndt80-PhoG',\n",
      "       'Rap1', 'Sox', 'TBP', 'TEA', 'Zinc_cluster'],\n",
      "      dtype='object')\n"
     ]
    }
   ],
   "source": [
    "print(classes)"
   ]
  },
  {
   "cell_type": "code",
   "execution_count": 94,
   "id": "54ebc19b",
   "metadata": {},
   "outputs": [],
   "source": [
    "destination = \"./data/combined_data.csv\"\n",
    "\n",
    "combined_df.to_csv(destination, index=False)\n",
    "\n",
    "classes_destination = \"./data/class_to_family.csv\"\n",
    "\n",
    "pd.Series(classes).to_csv(classes_destination, header=False)"
   ]
  },
  {
   "cell_type": "code",
   "execution_count": null,
   "id": "eff8d4d0",
   "metadata": {},
   "outputs": [],
   "source": []
  }
 ],
 "metadata": {
  "kernelspec": {
   "display_name": "Python 3 (ipykernel)",
   "language": "python",
   "name": "python3"
  },
  "language_info": {
   "codemirror_mode": {
    "name": "ipython",
    "version": 3
   },
   "file_extension": ".py",
   "mimetype": "text/x-python",
   "name": "python",
   "nbconvert_exporter": "python",
   "pygments_lexer": "ipython3",
   "version": "3.11.5"
  }
 },
 "nbformat": 4,
 "nbformat_minor": 5
}
