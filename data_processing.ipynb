{
 "cells": [
  {
   "cell_type": "code",
   "execution_count": 3,
   "id": "0a3efdae-d9c9-44e0-b901-291430a9903b",
   "metadata": {},
   "outputs": [],
   "source": [
    "import numpy as np\n",
    "import pandas as pd\n",
    "import sklearn\n",
    "import os"
   ]
  },
  {
   "cell_type": "code",
   "execution_count": 5,
   "id": "526273bd",
   "metadata": {},
   "outputs": [
    {
     "name": "stdout",
     "output_type": "stream",
     "text": [
      "['Aft1', 'Aro80', 'Asg1', 'Bas1', 'Cbf1', 'Cep3', 'Cha4', 'Cup9', 'Ecm22', 'Fhl1', 'Fkh1', 'Fkh2', 'Gal4', 'Gat1', 'Gat3', 'Gat4', 'Gcn4', 'Gln3', 'Gsm1', 'Gzf3', 'Hal9', 'Leu3', 'Lys14', 'Matalpha2', 'Mbp1', 'Mcm1', 'Met32', 'Mga1', 'Mig1', 'Mig2', 'Mig3', 'Ndt80', 'Nhp6a', 'Nhp6b', 'Nrg1', 'Oaf1', 'Pbf1', 'Pbf2', 'Pdr1', 'Phd1', 'Pho2', 'Pho4', 'Put3', 'Rap1', 'Rdr1', 'Rds1', 'Rds2', 'Rgt1', 'Rph1', 'Rpn4', 'Rsc3', 'Rsc30', 'Rtg3', 'Sfl1', 'Sfp1', 'Sip4', 'Skn7', 'Smp1', 'Spt15', 'Srd1', 'Stb3', 'Stp2', 'Stp4', 'Sum1', 'Sut2', 'Tbf1', 'Tbs1', 'Tea1', 'Tec1', 'tmp2', 'trash', 'Tye7', 'Ume6', 'Usv1', 'Xbp1', 'Yap1', 'Yap6', 'Ybr239c', 'Ydr520c', 'Yer130c', 'Ygr067c', 'Ykl222c', 'Yll054c', 'Yml081w', 'Ynr063w', 'Yox1', 'Ypr013c', 'Ypr015c', 'Ypr196w', 'Yrm1', 'Yrr1']\n"
     ]
    }
   ],
   "source": [
    "folder = \"./data/GR09_PBM_full\"\n",
    "\n",
    "sub_folders = [name for name in os.listdir(folder) if os.path.isdir(os.path.join(folder, name))]\n",
    "\n",
    "print(sub_folders)"
   ]
  },
  {
   "cell_type": "code",
   "execution_count": 6,
   "id": "d0d98faa",
   "metadata": {},
   "outputs": [
    {
     "data": {
      "text/html": [
       "<div>\n",
       "<style scoped>\n",
       "    .dataframe tbody tr th:only-of-type {\n",
       "        vertical-align: middle;\n",
       "    }\n",
       "\n",
       "    .dataframe tbody tr th {\n",
       "        vertical-align: top;\n",
       "    }\n",
       "\n",
       "    .dataframe thead th {\n",
       "        text-align: right;\n",
       "    }\n",
       "</style>\n",
       "<table border=\"1\" class=\"dataframe\">\n",
       "  <thead>\n",
       "    <tr style=\"text-align: right;\">\n",
       "      <th></th>\n",
       "      <th>ID</th>\n",
       "      <th>Name</th>\n",
       "      <th>Species</th>\n",
       "      <th>GeneID</th>\n",
       "      <th>Family</th>\n",
       "      <th>Evidence</th>\n",
       "    </tr>\n",
       "  </thead>\n",
       "  <tbody>\n",
       "    <tr>\n",
       "      <th>0</th>\n",
       "      <td>T000084_2.00</td>\n",
       "      <td>ABF1</td>\n",
       "      <td>Saccharomyces_cerevisiae</td>\n",
       "      <td>YKL112W</td>\n",
       "      <td>ABF1</td>\n",
       "      <td>D</td>\n",
       "    </tr>\n",
       "    <tr>\n",
       "      <th>1</th>\n",
       "      <td>T000262_2.00</td>\n",
       "      <td>AFT1</td>\n",
       "      <td>Saccharomyces_cerevisiae</td>\n",
       "      <td>YGL071W</td>\n",
       "      <td>AFT</td>\n",
       "      <td>D</td>\n",
       "    </tr>\n",
       "    <tr>\n",
       "      <th>2</th>\n",
       "      <td>T000263_2.00</td>\n",
       "      <td>AFT2</td>\n",
       "      <td>Saccharomyces_cerevisiae</td>\n",
       "      <td>YPL202C</td>\n",
       "      <td>AFT</td>\n",
       "      <td>D</td>\n",
       "    </tr>\n",
       "    <tr>\n",
       "      <th>3</th>\n",
       "      <td>T012462_2.00</td>\n",
       "      <td>MBP1</td>\n",
       "      <td>Saccharomyces_cerevisiae</td>\n",
       "      <td>YDL056W</td>\n",
       "      <td>APSES</td>\n",
       "      <td>D</td>\n",
       "    </tr>\n",
       "    <tr>\n",
       "      <th>4</th>\n",
       "      <td>T012465_2.00</td>\n",
       "      <td>PHD1</td>\n",
       "      <td>Saccharomyces_cerevisiae</td>\n",
       "      <td>YKL043W</td>\n",
       "      <td>APSES</td>\n",
       "      <td>D</td>\n",
       "    </tr>\n",
       "  </tbody>\n",
       "</table>\n",
       "</div>"
      ],
      "text/plain": [
       "             ID  Name                   Species   GeneID Family Evidence\n",
       "0  T000084_2.00  ABF1  Saccharomyces_cerevisiae  YKL112W   ABF1        D\n",
       "1  T000262_2.00  AFT1  Saccharomyces_cerevisiae  YGL071W    AFT        D\n",
       "2  T000263_2.00  AFT2  Saccharomyces_cerevisiae  YPL202C    AFT        D\n",
       "3  T012462_2.00  MBP1  Saccharomyces_cerevisiae  YDL056W  APSES        D\n",
       "4  T012465_2.00  PHD1  Saccharomyces_cerevisiae  YKL043W  APSES        D"
      ]
     },
     "execution_count": 6,
     "metadata": {},
     "output_type": "execute_result"
    }
   ],
   "source": [
    "#labels according to CIS-BP Database\n",
    "#http://cisbp.ccbr.utoronto.ca/help.html\n",
    "fam_labels = pd.read_csv(\"./data/dataCSV3762.csv\")\n",
    "fam_labels.head()"
   ]
  },
  {
   "cell_type": "code",
   "execution_count": 18,
   "id": "04399861",
   "metadata": {},
   "outputs": [],
   "source": [
    "genes = []\n",
    "family = []\n",
    "\n",
    "excluded = []\n",
    "for name in sub_folders:\n",
    "    name = name.upper()\n",
    "    if sum(fam_labels[\"Name\"] == name) != 0:\n",
    "        genes.append(name)\n",
    "        family.append(fam_labels[fam_labels[\"Name\"] == name].iloc[0][\"Family\"])\n",
    "    if sum(fam_labels[\"GeneID\"] == name) != 0:\n",
    "        genes.append(name)\n",
    "        family.append(fam_labels[fam_labels[\"GeneID\"] == name].iloc[0][\"Family\"])"
   ]
  },
  {
   "cell_type": "code",
   "execution_count": 26,
   "id": "98de71ab",
   "metadata": {},
   "outputs": [
    {
     "name": "stdout",
     "output_type": "stream",
     "text": [
      "93\n"
     ]
    }
   ],
   "source": [
    "print(len(genes))"
   ]
  },
  {
   "cell_type": "code",
   "execution_count": 22,
   "id": "5a69ef25",
   "metadata": {},
   "outputs": [
    {
     "name": "stdout",
     "output_type": "stream",
     "text": [
      "Zinc cluster    36\n",
      "C2H2 ZF         18\n",
      "GATA             6\n",
      "bHLH             4\n",
      "Homeodomain      4\n",
      "Forkhead         3\n",
      "bZIP             3\n",
      "APSES            3\n",
      "HSF              3\n",
      "MADS box         2\n",
      "Myb/SANT         2\n",
      "Sox              2\n",
      "TBP              1\n",
      "AT hook          1\n",
      "Unknown          1\n",
      "AFT              1\n",
      "Rap1             1\n",
      "Ndt80/PhoG       1\n",
      "TEA              1\n",
      "Name: count, dtype: int64\n"
     ]
    }
   ],
   "source": [
    "print(pd.Series(family).value_counts())"
   ]
  },
  {
   "cell_type": "code",
   "execution_count": 27,
   "id": "3a17c0f6",
   "metadata": {},
   "outputs": [
    {
     "name": "stdout",
     "output_type": "stream",
     "text": [
      "['AFT1', 'ARO80', 'ASG1', 'BAS1', 'CBF1', 'CEP3', 'CHA4', 'CUP9', 'ECM22', 'FHL1', 'FKH1', 'FKH2', 'GAL4', 'GAT1', 'GAT3', 'GAT4', 'GCN4', 'GLN3', 'GSM1', 'GZF3', 'HAL9', 'LEU3', 'LYS14', 'MATALPHA2', 'MBP1', 'MCM1', 'MET32', 'MGA1', 'MIG1', 'MIG2', 'MIG3', 'NDT80', 'NHP6A', 'NHP6B', 'NRG1', 'OAF1', 'PDR1', 'PHD1', 'PHO2', 'PHO4', 'PUT3', 'RAP1', 'RDR1', 'RDS1', 'RDS2', 'RGT1', 'RPH1', 'RPN4', 'RSC3', 'RSC30', 'RTG3', 'SFL1', 'SFP1', 'SIP4', 'SKN7', 'SMP1', 'SPT15', 'SRD1', 'STB3', 'STP2', 'STP4', 'SUM1', 'SUT2', 'TBF1', 'TBS1', 'TEA1', 'TEC1', 'TYE7', 'UME6', 'USV1', 'XBP1', 'YAP1', 'YAP6', 'YBR239C', 'YDR520C', 'YER130C', 'YGR067C', 'YGR067C', 'YKL222C', 'YKL222C', 'YLL054C', 'YLL054C', 'YML081W', 'YNR063W', 'YNR063W', 'YOX1', 'YPR013C', 'YPR015C', 'YPR015C', 'YPR196W', 'YPR196W', 'YRM1', 'YRR1']\n"
     ]
    }
   ],
   "source": [
    "print(genes)"
   ]
  },
  {
   "cell_type": "code",
   "execution_count": null,
   "id": "f3ce6b11",
   "metadata": {},
   "outputs": [],
   "source": []
  }
 ],
 "metadata": {
  "kernelspec": {
   "display_name": "Python 3 (ipykernel)",
   "language": "python",
   "name": "python3"
  },
  "language_info": {
   "codemirror_mode": {
    "name": "ipython",
    "version": 3
   },
   "file_extension": ".py",
   "mimetype": "text/x-python",
   "name": "python",
   "nbconvert_exporter": "python",
   "pygments_lexer": "ipython3",
   "version": "3.11.5"
  }
 },
 "nbformat": 4,
 "nbformat_minor": 5
}
