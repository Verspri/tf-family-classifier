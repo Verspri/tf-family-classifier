{
 "cells": [
  {
   "cell_type": "code",
   "execution_count": 3,
   "id": "0a3efdae-d9c9-44e0-b901-291430a9903b",
   "metadata": {},
   "outputs": [],
   "source": [
    "import numpy as np\n",
    "import pandas as pd\n",
    "import sklearn\n",
    "import os\n",
    "import shutil"
   ]
  },
  {
   "cell_type": "code",
   "execution_count": 5,
   "id": "ae116fb6",
   "metadata": {},
   "outputs": [
    {
     "name": "stdout",
     "output_type": "stream",
     "text": [
      "['Aft1', 'Aro80', 'Asg1', 'Bas1', 'Cbf1', 'Cep3', 'Cha4', 'Cup9', 'Ecm22', 'Fhl1', 'Fkh1', 'Fkh2', 'Gal4', 'Gat1', 'Gat3', 'Gat4', 'Gcn4', 'Gln3', 'Gsm1', 'Gzf3', 'Hal9', 'Leu3', 'Lys14', 'Matalpha2', 'Mbp1', 'Mcm1', 'Met32', 'Mga1', 'Mig1', 'Mig2', 'Mig3', 'Ndt80', 'Nhp6a', 'Nhp6b', 'Nrg1', 'Oaf1', 'Pbf1', 'Pbf2', 'Pdr1', 'Phd1', 'Pho2', 'Pho4', 'Put3', 'Rap1', 'Rdr1', 'Rds1', 'Rds2', 'Rgt1', 'Rph1', 'Rpn4', 'Rsc3', 'Rsc30', 'Rtg3', 'Sfl1', 'Sfp1', 'Sip4', 'Skn7', 'Smp1', 'Spt15', 'Srd1', 'Stb3', 'Stp2', 'Stp4', 'Sum1', 'Sut2', 'Tbf1', 'Tbs1', 'Tea1', 'Tec1', 'tmp2', 'trash', 'Tye7', 'Ume6', 'Usv1', 'Xbp1', 'Yap1', 'Yap6', 'Ybr239c', 'Ydr520c', 'Yer130c', 'Ygr067c', 'Ykl222c', 'Yll054c', 'Yml081w', 'Ynr063w', 'Yox1', 'Ypr013c', 'Ypr015c', 'Ypr196w', 'Yrm1', 'Yrr1']\n"
     ]
    }
   ],
   "source": [
    "folder = \"./data/GR09_PBM_full\"\n",
    "\n",
    "sub_folders = [name for name in os.listdir(folder) if os.path.isdir(os.path.join(folder, name))]\n",
    "\n",
    "print(sub_folders)"
   ]
  },
  {
   "cell_type": "code",
   "execution_count": 6,
   "id": "086e3274",
   "metadata": {},
   "outputs": [
    {
     "data": {
      "text/html": [
       "<div>\n",
       "<style scoped>\n",
       "    .dataframe tbody tr th:only-of-type {\n",
       "        vertical-align: middle;\n",
       "    }\n",
       "\n",
       "    .dataframe tbody tr th {\n",
       "        vertical-align: top;\n",
       "    }\n",
       "\n",
       "    .dataframe thead th {\n",
       "        text-align: right;\n",
       "    }\n",
       "</style>\n",
       "<table border=\"1\" class=\"dataframe\">\n",
       "  <thead>\n",
       "    <tr style=\"text-align: right;\">\n",
       "      <th></th>\n",
       "      <th>ID</th>\n",
       "      <th>Name</th>\n",
       "      <th>Species</th>\n",
       "      <th>GeneID</th>\n",
       "      <th>Family</th>\n",
       "      <th>Evidence</th>\n",
       "    </tr>\n",
       "  </thead>\n",
       "  <tbody>\n",
       "    <tr>\n",
       "      <th>0</th>\n",
       "      <td>T000084_2.00</td>\n",
       "      <td>ABF1</td>\n",
       "      <td>Saccharomyces_cerevisiae</td>\n",
       "      <td>YKL112W</td>\n",
       "      <td>ABF1</td>\n",
       "      <td>D</td>\n",
       "    </tr>\n",
       "    <tr>\n",
       "      <th>1</th>\n",
       "      <td>T000262_2.00</td>\n",
       "      <td>AFT1</td>\n",
       "      <td>Saccharomyces_cerevisiae</td>\n",
       "      <td>YGL071W</td>\n",
       "      <td>AFT</td>\n",
       "      <td>D</td>\n",
       "    </tr>\n",
       "    <tr>\n",
       "      <th>2</th>\n",
       "      <td>T000263_2.00</td>\n",
       "      <td>AFT2</td>\n",
       "      <td>Saccharomyces_cerevisiae</td>\n",
       "      <td>YPL202C</td>\n",
       "      <td>AFT</td>\n",
       "      <td>D</td>\n",
       "    </tr>\n",
       "    <tr>\n",
       "      <th>3</th>\n",
       "      <td>T012462_2.00</td>\n",
       "      <td>MBP1</td>\n",
       "      <td>Saccharomyces_cerevisiae</td>\n",
       "      <td>YDL056W</td>\n",
       "      <td>APSES</td>\n",
       "      <td>D</td>\n",
       "    </tr>\n",
       "    <tr>\n",
       "      <th>4</th>\n",
       "      <td>T012465_2.00</td>\n",
       "      <td>PHD1</td>\n",
       "      <td>Saccharomyces_cerevisiae</td>\n",
       "      <td>YKL043W</td>\n",
       "      <td>APSES</td>\n",
       "      <td>D</td>\n",
       "    </tr>\n",
       "  </tbody>\n",
       "</table>\n",
       "</div>"
      ],
      "text/plain": [
       "             ID  Name                   Species   GeneID Family Evidence\n",
       "0  T000084_2.00  ABF1  Saccharomyces_cerevisiae  YKL112W   ABF1        D\n",
       "1  T000262_2.00  AFT1  Saccharomyces_cerevisiae  YGL071W    AFT        D\n",
       "2  T000263_2.00  AFT2  Saccharomyces_cerevisiae  YPL202C    AFT        D\n",
       "3  T012462_2.00  MBP1  Saccharomyces_cerevisiae  YDL056W  APSES        D\n",
       "4  T012465_2.00  PHD1  Saccharomyces_cerevisiae  YKL043W  APSES        D"
      ]
     },
     "execution_count": 6,
     "metadata": {},
     "output_type": "execute_result"
    }
   ],
   "source": [
    "#labels according to CIS-BP Database\n",
    "#http://cisbp.ccbr.utoronto.ca/help.html\n",
    "fam_labels = pd.read_csv(\"./data/dataCSV3762.csv\")\n",
    "fam_labels.head()"
   ]
  },
  {
   "cell_type": "code",
   "execution_count": 37,
   "id": "82898f12",
   "metadata": {},
   "outputs": [],
   "source": [
    "genes = []\n",
    "family = []\n",
    "\n",
    "excluded = []\n",
    "for name in sub_folders:\n",
    "    name = name.upper()\n",
    "    if sum(fam_labels[\"Name\"] == name) != 0:\n",
    "        genes.append(name)\n",
    "        family.append(fam_labels[fam_labels[\"Name\"] == name].iloc[0][\"Family\"])\n",
    "    if sum(fam_labels[\"GeneID\"] == name) != 0:\n",
    "        genes.append(name)\n",
    "        family.append(fam_labels[fam_labels[\"GeneID\"] == name].iloc[0][\"Family\"])"
   ]
  },
  {
   "cell_type": "code",
   "execution_count": 26,
   "id": "428458d8",
   "metadata": {},
   "outputs": [
    {
     "name": "stdout",
     "output_type": "stream",
     "text": [
      "93\n"
     ]
    }
   ],
   "source": [
    "print(len(genes))"
   ]
  },
  {
   "cell_type": "code",
   "execution_count": 22,
   "id": "924262a8",
   "metadata": {},
   "outputs": [
    {
     "name": "stdout",
     "output_type": "stream",
     "text": [
      "Zinc cluster    36\n",
      "C2H2 ZF         18\n",
      "GATA             6\n",
      "bHLH             4\n",
      "Homeodomain      4\n",
      "Forkhead         3\n",
      "bZIP             3\n",
      "APSES            3\n",
      "HSF              3\n",
      "MADS box         2\n",
      "Myb/SANT         2\n",
      "Sox              2\n",
      "TBP              1\n",
      "AT hook          1\n",
      "Unknown          1\n",
      "AFT              1\n",
      "Rap1             1\n",
      "Ndt80/PhoG       1\n",
      "TEA              1\n",
      "Name: count, dtype: int64\n"
     ]
    }
   ],
   "source": [
    "print(pd.Series(family).value_counts())"
   ]
  },
  {
   "cell_type": "code",
   "execution_count": 27,
   "id": "60743000",
   "metadata": {},
   "outputs": [
    {
     "name": "stdout",
     "output_type": "stream",
     "text": [
      "['AFT1', 'ARO80', 'ASG1', 'BAS1', 'CBF1', 'CEP3', 'CHA4', 'CUP9', 'ECM22', 'FHL1', 'FKH1', 'FKH2', 'GAL4', 'GAT1', 'GAT3', 'GAT4', 'GCN4', 'GLN3', 'GSM1', 'GZF3', 'HAL9', 'LEU3', 'LYS14', 'MATALPHA2', 'MBP1', 'MCM1', 'MET32', 'MGA1', 'MIG1', 'MIG2', 'MIG3', 'NDT80', 'NHP6A', 'NHP6B', 'NRG1', 'OAF1', 'PDR1', 'PHD1', 'PHO2', 'PHO4', 'PUT3', 'RAP1', 'RDR1', 'RDS1', 'RDS2', 'RGT1', 'RPH1', 'RPN4', 'RSC3', 'RSC30', 'RTG3', 'SFL1', 'SFP1', 'SIP4', 'SKN7', 'SMP1', 'SPT15', 'SRD1', 'STB3', 'STP2', 'STP4', 'SUM1', 'SUT2', 'TBF1', 'TBS1', 'TEA1', 'TEC1', 'TYE7', 'UME6', 'USV1', 'XBP1', 'YAP1', 'YAP6', 'YBR239C', 'YDR520C', 'YER130C', 'YGR067C', 'YGR067C', 'YKL222C', 'YKL222C', 'YLL054C', 'YLL054C', 'YML081W', 'YNR063W', 'YNR063W', 'YOX1', 'YPR013C', 'YPR015C', 'YPR015C', 'YPR196W', 'YPR196W', 'YRM1', 'YRR1']\n"
     ]
    }
   ],
   "source": [
    "print(genes)"
   ]
  },
  {
   "cell_type": "code",
   "execution_count": 38,
   "id": "4f041a39",
   "metadata": {},
   "outputs": [
    {
     "name": "stdout",
     "output_type": "stream",
     "text": [
      "['AFT', 'Zinc_cluster', 'Zinc_cluster', 'Myb-SANT', 'bHLH', 'Zinc_cluster', 'Zinc_cluster', 'Homeodomain', 'Zinc_cluster', 'Forkhead', 'Forkhead', 'Forkhead', 'Zinc_cluster', 'GATA', 'GATA', 'GATA', 'bZIP', 'GATA', 'Zinc_cluster', 'GATA', 'Zinc_cluster', 'Zinc_cluster', 'Zinc_cluster', 'Homeodomain', 'APSES', 'MADS_box', 'C2H2_ZF', 'HSF', 'C2H2_ZF', 'C2H2_ZF', 'C2H2_ZF', 'Ndt80-PhoG', 'Sox', 'Sox', 'C2H2_ZF', 'Zinc_cluster', 'Zinc_cluster', 'APSES', 'Homeodomain', 'bHLH', 'Zinc_cluster', 'Rap1', 'Zinc_cluster', 'Zinc_cluster', 'Zinc_cluster', 'Zinc_cluster', 'C2H2_ZF', 'C2H2_ZF', 'Zinc_cluster', 'Zinc_cluster', 'bHLH', 'HSF', 'C2H2_ZF', 'Zinc_cluster', 'HSF', 'MADS_box', 'TBP', 'GATA', 'Unknown', 'C2H2_ZF', 'C2H2_ZF', 'AT_hook', 'Zinc_cluster', 'Myb-SANT', 'Zinc_cluster', 'Zinc_cluster', 'TEA', 'bHLH', 'Zinc_cluster', 'C2H2_ZF', 'APSES', 'bZIP', 'bZIP', 'Zinc_cluster', 'Zinc_cluster', 'C2H2_ZF', 'C2H2_ZF', 'C2H2_ZF', 'Zinc_cluster', 'Zinc_cluster', 'Zinc_cluster', 'Zinc_cluster', 'C2H2_ZF', 'Zinc_cluster', 'Zinc_cluster', 'Homeodomain', 'C2H2_ZF', 'C2H2_ZF', 'C2H2_ZF', 'Zinc_cluster', 'Zinc_cluster', 'Zinc_cluster', 'Zinc_cluster']\n"
     ]
    }
   ],
   "source": [
    "def to_file_name(s):\n",
    "    s = s.replace(\" \", \"_\")\n",
    "    s = s.replace(\"/\", \"-\")\n",
    "    return s\n",
    "\n",
    "family = list(map(to_file_name, family))\n",
    "print(family)"
   ]
  },
  {
   "cell_type": "code",
   "execution_count": 43,
   "id": "1cf755cf",
   "metadata": {},
   "outputs": [
    {
     "name": "stdout",
     "output_type": "stream",
     "text": [
      "['AFT', 'Zinc_cluster', 'Zinc_cluster', 'Myb-SANT', 'bHLH', 'Zinc_cluster', 'Zinc_cluster', 'Homeodomain', 'Zinc_cluster', 'Forkhead', 'Forkhead', 'Forkhead', 'Zinc_cluster', 'GATA', 'GATA', 'GATA', 'bZIP', 'GATA', 'Zinc_cluster', 'GATA', 'Zinc_cluster', 'Zinc_cluster', 'Zinc_cluster', 'Homeodomain', 'APSES', 'MADS_box', 'C2H2_ZF', 'HSF', 'C2H2_ZF', 'C2H2_ZF', 'C2H2_ZF', 'Ndt80-PhoG', 'Sox', 'Sox', 'C2H2_ZF', 'Zinc_cluster', 'Zinc_cluster', 'APSES', 'Homeodomain', 'bHLH', 'Zinc_cluster', 'Rap1', 'Zinc_cluster', 'Zinc_cluster', 'Zinc_cluster', 'Zinc_cluster', 'C2H2_ZF', 'C2H2_ZF', 'Zinc_cluster', 'Zinc_cluster', 'bHLH', 'HSF', 'C2H2_ZF', 'Zinc_cluster', 'HSF', 'MADS_box', 'TBP', 'GATA', 'Unknown', 'C2H2_ZF', 'C2H2_ZF', 'AT_hook', 'Zinc_cluster', 'Myb-SANT', 'Zinc_cluster', 'Zinc_cluster', 'TEA', 'bHLH', 'Zinc_cluster', 'C2H2_ZF', 'APSES', 'bZIP', 'bZIP', 'Zinc_cluster', 'Zinc_cluster', 'C2H2_ZF', 'C2H2_ZF', 'C2H2_ZF', 'Zinc_cluster', 'Zinc_cluster', 'Zinc_cluster', 'Zinc_cluster', 'C2H2_ZF', 'Zinc_cluster', 'Zinc_cluster', 'Homeodomain', 'C2H2_ZF', 'C2H2_ZF', 'C2H2_ZF', 'Zinc_cluster', 'Zinc_cluster', 'Zinc_cluster', 'Zinc_cluster']\n"
     ]
    }
   ],
   "source": [
    "print(family)"
   ]
  },
  {
   "cell_type": "code",
   "execution_count": 45,
   "id": "fd1984c9",
   "metadata": {},
   "outputs": [
    {
     "data": {
      "text/plain": [
       "27"
      ]
     },
     "execution_count": 45,
     "metadata": {},
     "output_type": "execute_result"
    }
   ],
   "source": [
    "genes.index(\"MGA1\")"
   ]
  },
  {
   "cell_type": "code",
   "execution_count": 46,
   "id": "9ea75ae7",
   "metadata": {},
   "outputs": [
    {
     "data": {
      "text/plain": [
       "'HSF'"
      ]
     },
     "execution_count": 46,
     "metadata": {},
     "output_type": "execute_result"
    }
   ],
   "source": [
    "family[27]"
   ]
  },
  {
   "cell_type": "code",
   "execution_count": 49,
   "id": "d78d88c1",
   "metadata": {},
   "outputs": [
    {
     "name": "stdout",
     "output_type": "stream",
     "text": [
      "Aft1 AFT Aft1_8mers_11111111.txt\n",
      "Aro80 Zinc_cluster Aro80_8mers_11111111.txt\n",
      "Asg1 Zinc_cluster Asg1_8mers_11111111.txt\n",
      "Bas1 Myb-SANT Bas1_8mers_11111111.txt\n",
      "Cbf1 bHLH Cbf1-11-primary_8mers_11111111.txt\n",
      "Cbf1 bHLH Cbf1-11_8mers_11111111.txt\n",
      "Cbf1 bHLH Cbf1-9_8mers_11111111.txt\n",
      "Cep3 Zinc_cluster Cep3-primary_8mers_11111111.txt\n",
      "Cep3 Zinc_cluster Cep3_8mers_11111111.txt\n",
      "Cha4 Zinc_cluster Cha4_8mers_11111111.txt\n",
      "Cup9 Homeodomain Cup9-primary_8mers_11111111.txt\n",
      "Cup9 Homeodomain Cup9_8mers_11111111.txt\n",
      "Ecm22 Zinc_cluster Ecm22_8mers_11111111.txt\n",
      "Fhl1 Forkhead Fhl1-11_8mers_11111111.txt\n",
      "Fhl1 Forkhead Fhl1-9_8mers_11111111.txt\n",
      "Fhl1 Forkhead Fhl1-DBD-9-primary_8mers_11111111.txt\n",
      "Fkh1 Forkhead Fkh1-11_8mers_11111111.txt\n",
      "Fkh1 Forkhead Fkh1-9_8mers_11111111.txt\n",
      "Fkh1 Forkhead Fkh1-primary_8mers_11111111.txt\n",
      "Fkh2 Forkhead Fkh2-11-primary_8mers_11111111.txt\n",
      "Fkh2 Forkhead Fkh2-11_8mers_11111111.txt\n",
      "Fkh2 Forkhead Fkh2-9-primary_8mers_11111111.txt\n",
      "Fkh2 Forkhead Fkh2-9_8mers_11111111.txt\n",
      "Gal4 Zinc_cluster Gal4-11_8mers_11111111.txt\n",
      "Gal4 Zinc_cluster Gal4-9_8mers_11111111.txt\n",
      "Gat1 GATA Gat1-11-primary_8mers_11111111.txt\n",
      "Gat1 GATA Gat1-11_8mers_11111111.txt\n",
      "Gat1 GATA Gat1-9_8mers_11111111.txt\n",
      "Gat3 GATA Gat3-primary_8mers_11111111.txt\n",
      "Gat3 GATA Gat3_8mers_11111111.txt\n",
      "Gat4 GATA Gat4-11-primary_8mers_11111111.txt\n",
      "Gat4 GATA Gat4-11_8mers_11111111.txt\n",
      "Gat4 GATA Gat4-9-primary_8mers_11111111.txt\n",
      "Gat4 GATA Gat4-9_8mers_11111111.txt\n",
      "Gcn4 bZIP Gcn4-11_8mers_11111111.txt\n",
      "Gcn4 bZIP Gcn4-9_8mers_11111111.txt\n",
      "Gcn4 bZIP Gcn4-DBD-9-primary_8mers_11111111.txt\n",
      "Gln3 GATA Gln3_8mers_11111111.txt\n",
      "Gsm1 Zinc_cluster Gsm1-11_8mers_11111111.txt\n",
      "Gsm1 Zinc_cluster Gsm1-9_8mers_11111111.txt\n",
      "Gsm1 Zinc_cluster Gsm1-FL-9-primary_8mers_11111111.txt\n",
      "Gzf3 GATA Gzf3-11-primary_8mers_11111111.txt\n",
      "Gzf3 GATA Gzf3-11_8mers_11111111.txt\n",
      "Gzf3 GATA Gzf3-9_8mers_11111111.txt\n",
      "Hal9 Zinc_cluster Hal9_8mers_11111111.txt\n",
      "Leu3 Zinc_cluster Leu3_8mers_11111111.txt\n",
      "Lys14 Zinc_cluster Lys14-primary_8mers_11111111.txt\n",
      "Lys14 Zinc_cluster Lys14_8mers_11111111.txt\n",
      "Matalpha2 Homeodomain Matalpha2-11-primary_8mers_11111111.txt\n",
      "Matalpha2 Homeodomain Matalpha2-11_8mers_11111111.txt\n",
      "Matalpha2 Homeodomain Matalpha2-9_8mers_11111111.txt\n",
      "Mbp1 APSES Mbp1-primary_8mers_11111111.txt\n",
      "Mbp1 APSES Mbp1_8mers_11111111.txt\n",
      "Mcm1 MADS_box Mcm1-11_8mers_11111111.txt\n",
      "Mcm1 MADS_box Mcm1-9_8mers_11111111.txt\n",
      "Met32 C2H2_ZF Met32-11_8mers_11111111.txt\n",
      "Met32 C2H2_ZF Met32-9-primary_8mers_11111111.txt\n",
      "Met32 C2H2_ZF Met32-9_8mers_11111111.txt\n",
      "Mga1 HSF Mga1_8mers_11111111.txt\n",
      "Mig1 C2H2_ZF Mig1_8mers_11111111.txt\n",
      "Mig2 C2H2_ZF Mig2_8mers_11111111.txt\n",
      "Mig3 C2H2_ZF Mig3_8mers_11111111.txt\n",
      "Ndt80 Ndt80-PhoG Ndt80-11_8mers_11111111.txt\n",
      "Ndt80 Ndt80-PhoG Ndt80-9_8mers_11111111.txt\n",
      "Nhp6a Sox Nhp6a-11-primary_8mers_11111111.txt\n",
      "Nhp6a Sox Nhp6a-11_8mers_11111111.txt\n",
      "Nhp6a Sox Nhp6a-9_8mers_11111111.txt\n",
      "Nhp6b Sox Nhp6b-11-primary_8mers_11111111.txt\n",
      "Nhp6b Sox Nhp6b-11_8mers_11111111.txt\n",
      "Nhp6b Sox Nhp6b-9-primary_8mers_11111111.txt\n",
      "Nhp6b Sox Nhp6b-9_8mers_11111111.txt\n",
      "Nrg1 C2H2_ZF Nrg1-11-primary_8mers_11111111.txt\n",
      "Nrg1 C2H2_ZF Nrg1-11_8mers_11111111.txt\n",
      "Nrg1 C2H2_ZF Nrg1-9-primary_8mers_11111111.txt\n",
      "Nrg1 C2H2_ZF Nrg1-9_8mers_11111111.txt\n",
      "Oaf1 Zinc_cluster Oaf1-11_8mers_11111111.txt\n",
      "Oaf1 Zinc_cluster Oaf1-9_8mers_11111111.txt\n",
      "Pdr1 Zinc_cluster Pdr1-DBD-primary_8mers_11111111.txt\n",
      "Pdr1 Zinc_cluster Pdr1_8mers_11111111.txt\n",
      "Phd1 APSES Phd1_8mers_11111111.txt\n",
      "Pho2 Homeodomain Pho2-DBD-primary_8mers_11111111.txt\n",
      "Pho2 Homeodomain Pho2_8mers_11111111.txt\n",
      "Pho4 bHLH Pho4-11-primary_8mers_11111111.txt\n",
      "Pho4 bHLH Pho4-11_8mers_11111111.txt\n",
      "Pho4 bHLH Pho4-9-primary_8mers_11111111.txt\n",
      "Pho4 bHLH Pho4-9_8mers_11111111.txt\n",
      "Put3 Zinc_cluster Put3-11_8mers_11111111.txt\n",
      "Put3 Zinc_cluster Put3-9_8mers_11111111.txt\n",
      "Rap1 Rap1 Rap1-11_8mers_11111111.txt\n",
      "Rap1 Rap1 Rap1-9_8mers_11111111.txt\n",
      "Rdr1 Zinc_cluster Rdr1-11_8mers_11111111.txt\n",
      "Rdr1 Zinc_cluster Rdr1-9_8mers_11111111.txt\n",
      "Rds1 Zinc_cluster Rds1-primary_8mers_11111111.txt\n",
      "Rds1 Zinc_cluster Rds1_8mers_11111111.txt\n",
      "Rds2 Zinc_cluster Rds2-11_8mers_11111111.txt\n",
      "Rds2 Zinc_cluster Rds2-9_8mers_11111111.txt\n",
      "Rgt1 Zinc_cluster Rgt1-11_8mers_11111111.txt\n",
      "Rgt1 Zinc_cluster Rgt1-9_8mers_11111111.txt\n",
      "Rph1 C2H2_ZF Rph1-11_8mers_11111111.txt\n",
      "Rph1 C2H2_ZF Rph1-9_8mers_11111111.txt\n",
      "Rpn4 C2H2_ZF Rpn4-11-primary_8mers_11111111.txt\n",
      "Rpn4 C2H2_ZF Rpn4-11_8mers_11111111.txt\n",
      "Rpn4 C2H2_ZF Rpn4-9_8mers_11111111.txt\n",
      "Rsc3 Zinc_cluster Rsc3_8mers_11111111.txt\n",
      "Rsc30 Zinc_cluster Rsc30_8mers_11111111.txt\n",
      "Rtg3 bHLH Rtg3-primary_8mers_11111111.txt\n",
      "Rtg3 bHLH Rtg3_8mers_11111111.txt\n",
      "Sfl1 HSF Sfl1_8mers_11111111.txt\n",
      "Sfp1 C2H2_ZF Sfp1-11_8mers_11111111.txt\n",
      "Sfp1 C2H2_ZF Sfp1-9_8mers_11111111.txt\n",
      "Sfp1 C2H2_ZF Sfp1-DBD-11-primary_8mers_11111111.txt\n",
      "Sip4 Zinc_cluster Sip4-11_8mers_11111111.txt\n",
      "Sip4 Zinc_cluster Sip4-9_8mers_11111111.txt\n",
      "Skn7 HSF Skn7_8mers_11111111.txt\n",
      "Smp1 MADS_box Smp1_8mers_11111111.txt\n",
      "Spt15 TBP Spt15_8mers_11111111.txt\n",
      "Srd1 GATA Srd1-11-primary_8mers_11111111.txt\n",
      "Srd1 GATA Srd1-11_8mers_11111111.txt\n",
      "Srd1 GATA Srd1-9-primary_8mers_11111111.txt\n",
      "Srd1 GATA Srd1-9_8mers_11111111.txt\n",
      "Stb3 Unknown Stb3_8mers_11111111.txt\n",
      "Stp2 C2H2_ZF Stp2-11_8mers_11111111.txt\n",
      "Stp2 C2H2_ZF Stp2-9-primary_8mers_11111111.txt\n",
      "Stp2 C2H2_ZF Stp2-9_8mers_11111111.txt\n",
      "Stp4 C2H2_ZF Stp4_8mers_11111111.txt\n",
      "Sum1 AT_hook Sum1-11_8mers_11111111.txt\n",
      "Sum1 AT_hook Sum1-9_8mers_11111111.txt\n",
      "Sum1 AT_hook Sum1-DBD-11-primary_8mers_11111111.txt\n",
      "Sut2 Zinc_cluster Sut2-11-primary_8mers_11111111.txt\n",
      "Sut2 Zinc_cluster Sut2-11_8mers_11111111.txt\n",
      "Sut2 Zinc_cluster Sut2-9-primary_8mers_11111111.txt\n",
      "Sut2 Zinc_cluster Sut2-9_8mers_11111111.txt\n",
      "Tbf1 Myb-SANT Tbf1-DBD-primary_8mers_11111111.txt\n",
      "Tbf1 Myb-SANT Tbf1_8mers_11111111.txt\n",
      "Tbs1 Zinc_cluster Tbs1-11_8mers_11111111.txt\n",
      "Tbs1 Zinc_cluster Tbs1-9-primary_8mers_11111111.txt\n",
      "Tbs1 Zinc_cluster Tbs1-9_8mers_11111111.txt\n",
      "Tea1 Zinc_cluster Tea1_8mers_11111111.txt\n",
      "Tec1 TEA Tec1-primary_8mers_11111111.txt\n",
      "Tec1 TEA Tec1_8mers_11111111.txt\n",
      "Tye7 bHLH Tye7-11-primary_8mers_11111111.txt\n",
      "Tye7 bHLH Tye7-11_8mers_11111111.txt\n",
      "Tye7 bHLH Tye7-9-primary_8mers_11111111.txt\n",
      "Tye7 bHLH Tye7-9_8mers_11111111.txt\n",
      "Ume6 Zinc_cluster Ume6-11-primary_8mers_11111111.txt\n",
      "Ume6 Zinc_cluster Ume6-11_8mers_11111111.txt\n",
      "Ume6 Zinc_cluster Ume6-9-primary_8mers_11111111.txt\n",
      "Ume6 Zinc_cluster Ume6-9_8mers_11111111.txt\n",
      "Usv1 C2H2_ZF Usv1-primary_8mers_11111111.txt\n",
      "Usv1 C2H2_ZF Usv1_8mers_11111111.txt\n",
      "Xbp1 APSES Xbp1-FL-primary_8mers_11111111.txt\n",
      "Xbp1 APSES Xbp1_8mers_11111111.txt\n",
      "Yap1 bZIP Yap1-primary_8mers_11111111.txt\n",
      "Yap1 bZIP Yap1_8mers_11111111.txt\n",
      "Yap6 bZIP Yap6_8mers_11111111.txt\n",
      "Ybr239c Zinc_cluster Ybr239c-primary_8mers_11111111.txt\n",
      "Ybr239c Zinc_cluster Ybr239c_8mers_11111111.txt\n",
      "Ydr520c Zinc_cluster Ydr520c-primary_8mers_11111111.txt\n",
      "Ydr520c Zinc_cluster Ydr520c_8mers_11111111.txt\n",
      "Yer130c C2H2_ZF Yer130c-11-primary_8mers_11111111.txt\n",
      "Yer130c C2H2_ZF Yer130c-11_8mers_11111111.txt\n",
      "Yer130c C2H2_ZF Yer130c-9_8mers_11111111.txt\n",
      "Ygr067c C2H2_ZF Ygr067c-primary_8mers_11111111.txt\n",
      "Ygr067c C2H2_ZF Ygr067c_8mers_11111111.txt\n",
      "Ygr067c C2H2_ZF Ygr067c-primary_8mers_11111111.txt\n",
      "Ygr067c C2H2_ZF Ygr067c_8mers_11111111.txt\n",
      "Ykl222c Zinc_cluster Ykl222c-11_8mers_11111111.txt\n",
      "Ykl222c Zinc_cluster Ykl222c-9_8mers_11111111.txt\n",
      "Ykl222c Zinc_cluster Ykl222c-DBD-9-primary_8mers_11111111.txt\n",
      "Ykl222c Zinc_cluster Ykl222c-11_8mers_11111111.txt\n",
      "Ykl222c Zinc_cluster Ykl222c-9_8mers_11111111.txt\n",
      "Ykl222c Zinc_cluster Ykl222c-DBD-9-primary_8mers_11111111.txt\n",
      "Yll054c Zinc_cluster Yll054c-11_8mers_11111111.txt\n",
      "Yll054c Zinc_cluster Yll054c-9_8mers_11111111.txt\n",
      "Yll054c Zinc_cluster Yll054c-11_8mers_11111111.txt\n",
      "Yll054c Zinc_cluster Yll054c-9_8mers_11111111.txt\n",
      "Yml081w C2H2_ZF Yml081w_8mers_11111111.txt\n",
      "Ynr063w Zinc_cluster Ynr063w-primary_8mers_11111111.txt\n",
      "Ynr063w Zinc_cluster Ynr063w_8mers_11111111.txt\n",
      "Ynr063w Zinc_cluster Ynr063w-primary_8mers_11111111.txt\n",
      "Ynr063w Zinc_cluster Ynr063w_8mers_11111111.txt\n",
      "Yox1 Homeodomain Yox1-primary_8mers_11111111.txt\n",
      "Yox1 Homeodomain Yox1_8mers_11111111.txt\n",
      "Ypr013c C2H2_ZF Ypr013c-11-primary_8mers_11111111.txt\n",
      "Ypr013c C2H2_ZF Ypr013c-11_8mers_11111111.txt\n",
      "Ypr013c C2H2_ZF Ypr013c-9-primary_8mers_11111111.txt\n",
      "Ypr013c C2H2_ZF Ypr013c-9_8mers_11111111.txt\n",
      "Ypr015c C2H2_ZF Ypr015c-primary_8mers_11111111.txt\n",
      "Ypr015c C2H2_ZF Ypr015c_8mers_11111111.txt\n",
      "Ypr015c C2H2_ZF Ypr015c-primary_8mers_11111111.txt\n",
      "Ypr015c C2H2_ZF Ypr015c_8mers_11111111.txt\n",
      "Ypr196w Zinc_cluster Ypr196w-11-primary_8mers_11111111.txt\n",
      "Ypr196w Zinc_cluster Ypr196w-11_8mers_11111111.txt\n",
      "Ypr196w Zinc_cluster Ypr196w-9_8mers_11111111.txt\n",
      "Ypr196w Zinc_cluster Ypr196w-11-primary_8mers_11111111.txt\n",
      "Ypr196w Zinc_cluster Ypr196w-11_8mers_11111111.txt\n",
      "Ypr196w Zinc_cluster Ypr196w-9_8mers_11111111.txt\n",
      "Yrm1 Zinc_cluster Yrm1_8mers_11111111.txt\n",
      "Yrr1 Zinc_cluster Yrr1-11_8mers_11111111.txt\n",
      "Yrr1 Zinc_cluster Yrr1-9_8mers_11111111.txt\n"
     ]
    }
   ],
   "source": [
    "for name, fam in zip(genes, family):\n",
    "    fname = name\n",
    "    for n in sub_folders:\n",
    "        if n.upper() == name:\n",
    "            fname = n\n",
    "            \n",
    "    destination = f\"./data/PBM_partitioned/{fam}\"\n",
    "    \n",
    "    if not os.path.exists(destination):\n",
    "        os.mkdir(destination)\n",
    "            \n",
    "    source = f\"./data/GR09_PBM_full/{fname}\"\n",
    "    \n",
    "    files = os.listdir(source)\n",
    "    \n",
    "    for file in files:\n",
    "        if \"8mers_11111111.txt\" in file:\n",
    "            print(fname, fam, file)\n",
    "            shutil.copyfile(os.path.join(source, file), os.path.join(destination, file))"
   ]
  },
  {
   "cell_type": "code",
   "execution_count": null,
   "id": "47222c60",
   "metadata": {},
   "outputs": [],
   "source": []
  }
 ],
 "metadata": {
  "kernelspec": {
   "display_name": "Python 3 (ipykernel)",
   "language": "python",
   "name": "python3"
  },
  "language_info": {
   "codemirror_mode": {
    "name": "ipython",
    "version": 3
   },
   "file_extension": ".py",
   "mimetype": "text/x-python",
   "name": "python",
   "nbconvert_exporter": "python",
   "pygments_lexer": "ipython3",
   "version": "3.11.5"
  }
 },
 "nbformat": 4,
 "nbformat_minor": 5
}
